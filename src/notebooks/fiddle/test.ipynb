{
 "cells": [
  {
   "cell_type": "code",
   "execution_count": null,
   "id": "91e8d1a1-6622-4da1-b5c9-ee1ccea01112",
   "metadata": {},
   "outputs": [],
   "source": [
    "print(\"saying hi\")"
   ]
  },
  {
   "cell_type": "code",
   "execution_count": 2,
   "id": "cc8d41c9-2f7b-485e-bb2b-7610322b6ead",
   "metadata": {},
   "outputs": [
    {
     "name": "stdout",
     "output_type": "stream",
     "text": [
      "1.0009589195251465seconds have gone by\n"
     ]
    }
   ],
   "source": [
    "import time \n",
    "\n",
    "st = time.time()\n",
    "\n",
    "time.sleep(30)\n",
    "\n",
    "et = time.time() - st \n",
    "\n",
    "print(str(et) + \"seconds have gone by\")"
   ]
  },
  {
   "cell_type": "code",
   "execution_count": null,
   "id": "1bd72647-03b4-400a-80fc-16d5099a3bb7",
   "metadata": {},
   "outputs": [],
   "source": [
    "print(\"saying goodbye\")"
   ]
  }
 ],
 "metadata": {
  "kernelspec": {
   "display_name": "Python 3 (ipykernel)",
   "language": "python",
   "name": "python3"
  },
  "language_info": {
   "codemirror_mode": {
    "name": "ipython",
    "version": 3
   },
   "file_extension": ".py",
   "mimetype": "text/x-python",
   "name": "python",
   "nbconvert_exporter": "python",
   "pygments_lexer": "ipython3",
   "version": "3.8.13"
  }
 },
 "nbformat": 4,
 "nbformat_minor": 5
}
