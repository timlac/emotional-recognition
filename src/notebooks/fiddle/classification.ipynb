{
 "cells": [
  {
   "cell_type": "code",
   "execution_count": 6,
   "id": "c74a7a6b-9267-420c-aa2d-7c56a21f960e",
   "metadata": {},
   "outputs": [
    {
     "name": "stderr",
     "output_type": "stream",
     "text": [
      "/home/tim/anaconda3/envs/mul-emo-recog/lib/python3.7/site-packages/sklearn/utils/deprecation.py:144: FutureWarning: The sklearn.ensemble.forest module is  deprecated in version 0.22 and will be removed in version 0.24. The corresponding classes / functions should instead be imported from sklearn.ensemble. Anything that cannot be imported from sklearn.ensemble is now part of the private API.\n",
      "  warnings.warn(message, FutureWarning)\n"
     ]
    }
   ],
   "source": [
    "from sklearn.datasets import load_wine\n",
    "import pandas as pd\n",
    "from treeinterpreter import treeinterpreter as ti"
   ]
  },
  {
   "cell_type": "code",
   "execution_count": 7,
   "id": "e47a8ee7-a623-4e67-864d-93e82c82056d",
   "metadata": {},
   "outputs": [
    {
     "name": "stdout",
     "output_type": "stream",
     "text": [
      "**Data Set Characteristics:**\n",
      "\n",
      "    :Number of Instances: 178 (50 in each of three classes)\n",
      "    :Number of Attributes: 13 numeric, predictive attributes and the class\n",
      "    :Attribute Information:\n",
      " \t\t- Alcohol\n",
      " \t\t- Malic acid\n",
      " \t\t- Ash\n",
      "\t\t- Alcalinity of ash  \n",
      " \t\t- Magnesium\n",
      "\t\t- Total phenols\n",
      " \t\t- Flavanoids\n",
      " \t\t- Nonflavanoid phenols\n",
      " \t\t- Proanthocyanins\n",
      "\t\t- Color intensity\n",
      " \t\t- Hue\n",
      " \t\t- OD280/OD315 of diluted wines\n",
      " \t\t- Proline\n",
      "\n",
      "    - class:\n",
      "            - class_0\n",
      "            - class_1\n",
      "            - class_2\n",
      "\t\t\n"
     ]
    },
    {
     "data": {
      "text/html": [
       "<div>\n",
       "<style scoped>\n",
       "    .dataframe tbody tr th:only-of-type {\n",
       "        vertical-align: middle;\n",
       "    }\n",
       "\n",
       "    .dataframe tbody tr th {\n",
       "        vertical-align: top;\n",
       "    }\n",
       "\n",
       "    .dataframe thead th {\n",
       "        text-align: right;\n",
       "    }\n",
       "</style>\n",
       "<table border=\"1\" class=\"dataframe\">\n",
       "  <thead>\n",
       "    <tr style=\"text-align: right;\">\n",
       "      <th></th>\n",
       "      <th>alcohol</th>\n",
       "      <th>malic_acid</th>\n",
       "      <th>ash</th>\n",
       "      <th>alcalinity_of_ash</th>\n",
       "      <th>magnesium</th>\n",
       "      <th>total_phenols</th>\n",
       "      <th>flavanoids</th>\n",
       "      <th>nonflavanoid_phenols</th>\n",
       "      <th>proanthocyanins</th>\n",
       "      <th>color_intensity</th>\n",
       "      <th>hue</th>\n",
       "      <th>od280/od315_of_diluted_wines</th>\n",
       "      <th>proline</th>\n",
       "      <th>WineType</th>\n",
       "    </tr>\n",
       "  </thead>\n",
       "  <tbody>\n",
       "    <tr>\n",
       "      <th>0</th>\n",
       "      <td>14.23</td>\n",
       "      <td>1.71</td>\n",
       "      <td>2.43</td>\n",
       "      <td>15.6</td>\n",
       "      <td>127.0</td>\n",
       "      <td>2.80</td>\n",
       "      <td>3.06</td>\n",
       "      <td>0.28</td>\n",
       "      <td>2.29</td>\n",
       "      <td>5.64</td>\n",
       "      <td>1.04</td>\n",
       "      <td>3.92</td>\n",
       "      <td>1065.0</td>\n",
       "      <td>0</td>\n",
       "    </tr>\n",
       "    <tr>\n",
       "      <th>1</th>\n",
       "      <td>13.20</td>\n",
       "      <td>1.78</td>\n",
       "      <td>2.14</td>\n",
       "      <td>11.2</td>\n",
       "      <td>100.0</td>\n",
       "      <td>2.65</td>\n",
       "      <td>2.76</td>\n",
       "      <td>0.26</td>\n",
       "      <td>1.28</td>\n",
       "      <td>4.38</td>\n",
       "      <td>1.05</td>\n",
       "      <td>3.40</td>\n",
       "      <td>1050.0</td>\n",
       "      <td>0</td>\n",
       "    </tr>\n",
       "    <tr>\n",
       "      <th>2</th>\n",
       "      <td>13.16</td>\n",
       "      <td>2.36</td>\n",
       "      <td>2.67</td>\n",
       "      <td>18.6</td>\n",
       "      <td>101.0</td>\n",
       "      <td>2.80</td>\n",
       "      <td>3.24</td>\n",
       "      <td>0.30</td>\n",
       "      <td>2.81</td>\n",
       "      <td>5.68</td>\n",
       "      <td>1.03</td>\n",
       "      <td>3.17</td>\n",
       "      <td>1185.0</td>\n",
       "      <td>0</td>\n",
       "    </tr>\n",
       "    <tr>\n",
       "      <th>3</th>\n",
       "      <td>14.37</td>\n",
       "      <td>1.95</td>\n",
       "      <td>2.50</td>\n",
       "      <td>16.8</td>\n",
       "      <td>113.0</td>\n",
       "      <td>3.85</td>\n",
       "      <td>3.49</td>\n",
       "      <td>0.24</td>\n",
       "      <td>2.18</td>\n",
       "      <td>7.80</td>\n",
       "      <td>0.86</td>\n",
       "      <td>3.45</td>\n",
       "      <td>1480.0</td>\n",
       "      <td>0</td>\n",
       "    </tr>\n",
       "    <tr>\n",
       "      <th>4</th>\n",
       "      <td>13.24</td>\n",
       "      <td>2.59</td>\n",
       "      <td>2.87</td>\n",
       "      <td>21.0</td>\n",
       "      <td>118.0</td>\n",
       "      <td>2.80</td>\n",
       "      <td>2.69</td>\n",
       "      <td>0.39</td>\n",
       "      <td>1.82</td>\n",
       "      <td>4.32</td>\n",
       "      <td>1.04</td>\n",
       "      <td>2.93</td>\n",
       "      <td>735.0</td>\n",
       "      <td>0</td>\n",
       "    </tr>\n",
       "  </tbody>\n",
       "</table>\n",
       "</div>"
      ],
      "text/plain": [
       "   alcohol  malic_acid   ash  alcalinity_of_ash  magnesium  total_phenols  \\\n",
       "0    14.23        1.71  2.43               15.6      127.0           2.80   \n",
       "1    13.20        1.78  2.14               11.2      100.0           2.65   \n",
       "2    13.16        2.36  2.67               18.6      101.0           2.80   \n",
       "3    14.37        1.95  2.50               16.8      113.0           3.85   \n",
       "4    13.24        2.59  2.87               21.0      118.0           2.80   \n",
       "\n",
       "   flavanoids  nonflavanoid_phenols  proanthocyanins  color_intensity   hue  \\\n",
       "0        3.06                  0.28             2.29             5.64  1.04   \n",
       "1        2.76                  0.26             1.28             4.38  1.05   \n",
       "2        3.24                  0.30             2.81             5.68  1.03   \n",
       "3        3.49                  0.24             2.18             7.80  0.86   \n",
       "4        2.69                  0.39             1.82             4.32  1.04   \n",
       "\n",
       "   od280/od315_of_diluted_wines  proline  WineType  \n",
       "0                          3.92   1065.0         0  \n",
       "1                          3.40   1050.0         0  \n",
       "2                          3.17   1185.0         0  \n",
       "3                          3.45   1480.0         0  \n",
       "4                          2.93    735.0         0  "
      ]
     },
     "execution_count": 7,
     "metadata": {},
     "output_type": "execute_result"
    }
   ],
   "source": [
    "wine = load_wine()\n",
    "\n",
    "for line in wine.DESCR.split(\"\\n\")[5:29]:\n",
    "    print(line)\n",
    "\n",
    "wine_df = pd.DataFrame(data=wine.data, columns=wine.feature_names)\n",
    "wine_df[\"WineType\"] = wine.target\n",
    "\n",
    "wine_df.head()"
   ]
  },
  {
   "cell_type": "raw",
   "id": "c3cbae44-ffe5-4431-889a-42fd7b51d5a1",
   "metadata": {},
   "source": [
    "from sklearn.model_selection import train_test_split\n",
    "\n",
    "X_wine, Y_wine = wine.data, wine.target\n",
    "\n",
    "print(\"Dataset Size : \", X_wine.shape, Y_wine.shape)\n",
    "\n",
    "X_train_wine, X_test_wine, Y_train_wine, Y_test_wine = train_test_split(X_wine, Y_wine,\n",
    "                                                                        train_size=0.8,\n",
    "                                                                        test_size=0.2,\n",
    "                                                                        stratify=Y_wine,\n",
    "                                                                        random_state=123)\n",
    "\n",
    "print(\"Train/Test Size : \", X_train_wine.shape, X_test_wine.shape, Y_train_wine.shape, Y_test_wine.shape)"
   ]
  },
  {
   "cell_type": "code",
   "execution_count": 11,
   "id": "98826065-0925-4f0d-ab04-82d6c6d90109",
   "metadata": {},
   "outputs": [
    {
     "name": "stdout",
     "output_type": "stream",
     "text": [
      "Test  Accuracy : 0.89\n",
      "Train Accuracy : 1.00\n"
     ]
    },
    {
     "data": {
      "text/plain": [
       "((36, 3), (36, 3), (36, 13, 3))"
      ]
     },
     "execution_count": 11,
     "metadata": {},
     "output_type": "execute_result"
    }
   ],
   "source": [
    "from sklearn.tree import DecisionTreeClassifier\n",
    "\n",
    "clf = DecisionTreeClassifier()\n",
    "clf.fit(X_train_wine, Y_train_wine)\n",
    "\n",
    "print(\"Test  Accuracy : %.2f\"%clf.score(X_test_wine, Y_test_wine))\n",
    "print(\"Train Accuracy : %.2f\"%clf.score(X_train_wine, Y_train_wine))\n",
    "\n",
    "preds, bias, contributions = ti.predict(clf, X_test_wine)\n",
    "preds.shape, bias.shape, contributions.shape"
   ]
  },
  {
   "cell_type": "code",
   "execution_count": 12,
   "id": "c71eb255-a41c-4dbf-abaa-cdb6fba4dfc6",
   "metadata": {},
   "outputs": [
    {
     "data": {
      "text/plain": [
       "array([1, 0, 1, 2, 2, 0, 1, 1, 1, 0, 1, 1, 1, 0, 2, 1, 1, 0, 1, 2, 0, 2,\n",
       "       1, 2, 1, 0, 2, 1, 0, 0, 0, 2, 0, 1, 1, 2])"
      ]
     },
     "execution_count": 12,
     "metadata": {},
     "output_type": "execute_result"
    }
   ],
   "source": [
    "clf.predict(X_test_wine)"
   ]
  },
  {
   "cell_type": "code",
   "execution_count": 14,
   "id": "6a10d051-e51c-4c52-a1de-5a572776964a",
   "metadata": {},
   "outputs": [
    {
     "data": {
      "text/plain": [
       "array([0, 1, 2])"
      ]
     },
     "execution_count": 14,
     "metadata": {},
     "output_type": "execute_result"
    }
   ],
   "source": [
    "clf.classes_"
   ]
  },
  {
   "cell_type": "code",
   "execution_count": 13,
   "id": "c03eafa5-8b99-4c88-a929-73d9e0dc8986",
   "metadata": {},
   "outputs": [
    {
     "data": {
      "text/plain": [
       "array([[0.33098592, 0.40140845, 0.26760563],\n",
       "       [0.33098592, 0.40140845, 0.26760563],\n",
       "       [0.33098592, 0.40140845, 0.26760563],\n",
       "       [0.33098592, 0.40140845, 0.26760563],\n",
       "       [0.33098592, 0.40140845, 0.26760563],\n",
       "       [0.33098592, 0.40140845, 0.26760563],\n",
       "       [0.33098592, 0.40140845, 0.26760563],\n",
       "       [0.33098592, 0.40140845, 0.26760563],\n",
       "       [0.33098592, 0.40140845, 0.26760563],\n",
       "       [0.33098592, 0.40140845, 0.26760563],\n",
       "       [0.33098592, 0.40140845, 0.26760563],\n",
       "       [0.33098592, 0.40140845, 0.26760563],\n",
       "       [0.33098592, 0.40140845, 0.26760563],\n",
       "       [0.33098592, 0.40140845, 0.26760563],\n",
       "       [0.33098592, 0.40140845, 0.26760563],\n",
       "       [0.33098592, 0.40140845, 0.26760563],\n",
       "       [0.33098592, 0.40140845, 0.26760563],\n",
       "       [0.33098592, 0.40140845, 0.26760563],\n",
       "       [0.33098592, 0.40140845, 0.26760563],\n",
       "       [0.33098592, 0.40140845, 0.26760563],\n",
       "       [0.33098592, 0.40140845, 0.26760563],\n",
       "       [0.33098592, 0.40140845, 0.26760563],\n",
       "       [0.33098592, 0.40140845, 0.26760563],\n",
       "       [0.33098592, 0.40140845, 0.26760563],\n",
       "       [0.33098592, 0.40140845, 0.26760563],\n",
       "       [0.33098592, 0.40140845, 0.26760563],\n",
       "       [0.33098592, 0.40140845, 0.26760563],\n",
       "       [0.33098592, 0.40140845, 0.26760563],\n",
       "       [0.33098592, 0.40140845, 0.26760563],\n",
       "       [0.33098592, 0.40140845, 0.26760563],\n",
       "       [0.33098592, 0.40140845, 0.26760563],\n",
       "       [0.33098592, 0.40140845, 0.26760563],\n",
       "       [0.33098592, 0.40140845, 0.26760563],\n",
       "       [0.33098592, 0.40140845, 0.26760563],\n",
       "       [0.33098592, 0.40140845, 0.26760563],\n",
       "       [0.33098592, 0.40140845, 0.26760563]])"
      ]
     },
     "execution_count": 13,
     "metadata": {},
     "output_type": "execute_result"
    }
   ],
   "source": [
    "bias"
   ]
  }
 ],
 "metadata": {
  "kernelspec": {
   "display_name": "Python 3 (ipykernel)",
   "language": "python",
   "name": "python3"
  },
  "language_info": {
   "codemirror_mode": {
    "name": "ipython",
    "version": 3
   },
   "file_extension": ".py",
   "mimetype": "text/x-python",
   "name": "python",
   "nbconvert_exporter": "python",
   "pygments_lexer": "ipython3",
   "version": "3.8.13"
  }
 },
 "nbformat": 4,
 "nbformat_minor": 5
}
