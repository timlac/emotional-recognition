{
 "cells": [
  {
   "cell_type": "code",
   "execution_count": 100,
   "id": "b511ce00",
   "metadata": {},
   "outputs": [],
   "source": [
    "import pandas as pd\n",
    "import numpy as np\n",
    "from sklearn.decomposition import PCA\n",
    "from sklearn.model_selection import train_test_split\n",
    "from sklearn import svm\n",
    "from matplotlib import pyplot as plt\n",
    "\n"
   ]
  },
  {
   "cell_type": "markdown",
   "id": "9bc306e5",
   "metadata": {},
   "source": [
    "Read the concatenated CSV"
   ]
  },
  {
   "cell_type": "code",
   "execution_count": 101,
   "id": "6cb4ad7a",
   "metadata": {},
   "outputs": [
    {
     "name": "stderr",
     "output_type": "stream",
     "text": [
      "/tmp/ipykernel_14937/2773897866.py:2: DtypeWarning:\n",
      "\n",
      "Columns (721) have mixed types. Specify dtype option on import or set low_memory=False.\n",
      "\n"
     ]
    }
   ],
   "source": [
    "path = \"../preprocessing/concat.csv\"\n",
    "df = pd.read_csv(path)"
   ]
  },
  {
   "cell_type": "code",
   "execution_count": 102,
   "id": "39f9349b",
   "metadata": {},
   "outputs": [
    {
     "data": {
      "text/html": [
       "<div>\n",
       "<style scoped>\n",
       "    .dataframe tbody tr th:only-of-type {\n",
       "        vertical-align: middle;\n",
       "    }\n",
       "\n",
       "    .dataframe tbody tr th {\n",
       "        vertical-align: top;\n",
       "    }\n",
       "\n",
       "    .dataframe thead th {\n",
       "        text-align: right;\n",
       "    }\n",
       "</style>\n",
       "<table border=\"1\" class=\"dataframe\">\n",
       "  <thead>\n",
       "    <tr style=\"text-align: right;\">\n",
       "      <th></th>\n",
       "      <th>Unnamed: 0</th>\n",
       "      <th>frame</th>\n",
       "      <th>face_id</th>\n",
       "      <th>timestamp</th>\n",
       "      <th>confidence</th>\n",
       "      <th>success</th>\n",
       "      <th>gaze_0_x</th>\n",
       "      <th>gaze_0_y</th>\n",
       "      <th>gaze_0_z</th>\n",
       "      <th>gaze_1_x</th>\n",
       "      <th>...</th>\n",
       "      <th>AU45_c</th>\n",
       "      <th>video_id</th>\n",
       "      <th>file</th>\n",
       "      <th>mix</th>\n",
       "      <th>emotion_1</th>\n",
       "      <th>vocalization</th>\n",
       "      <th>intensity_level</th>\n",
       "      <th>emotion_2</th>\n",
       "      <th>proportions</th>\n",
       "      <th>situation</th>\n",
       "    </tr>\n",
       "  </thead>\n",
       "  <tbody>\n",
       "    <tr>\n",
       "      <th>0</th>\n",
       "      <td>0</td>\n",
       "      <td>1</td>\n",
       "      <td>0</td>\n",
       "      <td>0.00</td>\n",
       "      <td>0.98</td>\n",
       "      <td>1</td>\n",
       "      <td>-0.062394</td>\n",
       "      <td>0.301228</td>\n",
       "      <td>-0.951509</td>\n",
       "      <td>-0.192912</td>\n",
       "      <td>...</td>\n",
       "      <td>1.0</td>\n",
       "      <td>A220</td>\n",
       "      <td>A220_reg_p_2.csv</td>\n",
       "      <td>False</td>\n",
       "      <td>reg</td>\n",
       "      <td>p</td>\n",
       "      <td>2</td>\n",
       "      <td>NaN</td>\n",
       "      <td>NaN</td>\n",
       "      <td>NaN</td>\n",
       "    </tr>\n",
       "    <tr>\n",
       "      <th>1</th>\n",
       "      <td>1</td>\n",
       "      <td>2</td>\n",
       "      <td>0</td>\n",
       "      <td>0.02</td>\n",
       "      <td>0.98</td>\n",
       "      <td>1</td>\n",
       "      <td>-0.052638</td>\n",
       "      <td>0.300214</td>\n",
       "      <td>-0.952418</td>\n",
       "      <td>-0.205766</td>\n",
       "      <td>...</td>\n",
       "      <td>0.0</td>\n",
       "      <td>A220</td>\n",
       "      <td>A220_reg_p_2.csv</td>\n",
       "      <td>False</td>\n",
       "      <td>reg</td>\n",
       "      <td>p</td>\n",
       "      <td>2</td>\n",
       "      <td>NaN</td>\n",
       "      <td>NaN</td>\n",
       "      <td>NaN</td>\n",
       "    </tr>\n",
       "    <tr>\n",
       "      <th>2</th>\n",
       "      <td>2</td>\n",
       "      <td>3</td>\n",
       "      <td>0</td>\n",
       "      <td>0.04</td>\n",
       "      <td>0.98</td>\n",
       "      <td>1</td>\n",
       "      <td>-0.050868</td>\n",
       "      <td>0.293366</td>\n",
       "      <td>-0.954646</td>\n",
       "      <td>-0.208241</td>\n",
       "      <td>...</td>\n",
       "      <td>0.0</td>\n",
       "      <td>A220</td>\n",
       "      <td>A220_reg_p_2.csv</td>\n",
       "      <td>False</td>\n",
       "      <td>reg</td>\n",
       "      <td>p</td>\n",
       "      <td>2</td>\n",
       "      <td>NaN</td>\n",
       "      <td>NaN</td>\n",
       "      <td>NaN</td>\n",
       "    </tr>\n",
       "    <tr>\n",
       "      <th>3</th>\n",
       "      <td>3</td>\n",
       "      <td>4</td>\n",
       "      <td>0</td>\n",
       "      <td>0.06</td>\n",
       "      <td>0.98</td>\n",
       "      <td>1</td>\n",
       "      <td>-0.053854</td>\n",
       "      <td>0.298332</td>\n",
       "      <td>-0.952942</td>\n",
       "      <td>-0.204404</td>\n",
       "      <td>...</td>\n",
       "      <td>0.0</td>\n",
       "      <td>A220</td>\n",
       "      <td>A220_reg_p_2.csv</td>\n",
       "      <td>False</td>\n",
       "      <td>reg</td>\n",
       "      <td>p</td>\n",
       "      <td>2</td>\n",
       "      <td>NaN</td>\n",
       "      <td>NaN</td>\n",
       "      <td>NaN</td>\n",
       "    </tr>\n",
       "    <tr>\n",
       "      <th>4</th>\n",
       "      <td>4</td>\n",
       "      <td>5</td>\n",
       "      <td>0</td>\n",
       "      <td>0.08</td>\n",
       "      <td>0.98</td>\n",
       "      <td>1</td>\n",
       "      <td>-0.049128</td>\n",
       "      <td>0.298474</td>\n",
       "      <td>-0.953153</td>\n",
       "      <td>-0.201120</td>\n",
       "      <td>...</td>\n",
       "      <td>0.0</td>\n",
       "      <td>A220</td>\n",
       "      <td>A220_reg_p_2.csv</td>\n",
       "      <td>False</td>\n",
       "      <td>reg</td>\n",
       "      <td>p</td>\n",
       "      <td>2</td>\n",
       "      <td>NaN</td>\n",
       "      <td>NaN</td>\n",
       "      <td>NaN</td>\n",
       "    </tr>\n",
       "    <tr>\n",
       "      <th>...</th>\n",
       "      <td>...</td>\n",
       "      <td>...</td>\n",
       "      <td>...</td>\n",
       "      <td>...</td>\n",
       "      <td>...</td>\n",
       "      <td>...</td>\n",
       "      <td>...</td>\n",
       "      <td>...</td>\n",
       "      <td>...</td>\n",
       "      <td>...</td>\n",
       "      <td>...</td>\n",
       "      <td>...</td>\n",
       "      <td>...</td>\n",
       "      <td>...</td>\n",
       "      <td>...</td>\n",
       "      <td>...</td>\n",
       "      <td>...</td>\n",
       "      <td>...</td>\n",
       "      <td>...</td>\n",
       "      <td>...</td>\n",
       "      <td>...</td>\n",
       "    </tr>\n",
       "    <tr>\n",
       "      <th>110583</th>\n",
       "      <td>305</td>\n",
       "      <td>306</td>\n",
       "      <td>0</td>\n",
       "      <td>6.10</td>\n",
       "      <td>0.98</td>\n",
       "      <td>1</td>\n",
       "      <td>0.085220</td>\n",
       "      <td>0.297743</td>\n",
       "      <td>-0.950835</td>\n",
       "      <td>-0.092437</td>\n",
       "      <td>...</td>\n",
       "      <td>0.0</td>\n",
       "      <td>A220</td>\n",
       "      <td>A220_anx_v_3.csv</td>\n",
       "      <td>False</td>\n",
       "      <td>anx</td>\n",
       "      <td>v</td>\n",
       "      <td>3</td>\n",
       "      <td>NaN</td>\n",
       "      <td>NaN</td>\n",
       "      <td>NaN</td>\n",
       "    </tr>\n",
       "    <tr>\n",
       "      <th>110584</th>\n",
       "      <td>306</td>\n",
       "      <td>307</td>\n",
       "      <td>0</td>\n",
       "      <td>6.12</td>\n",
       "      <td>0.98</td>\n",
       "      <td>1</td>\n",
       "      <td>0.081289</td>\n",
       "      <td>0.296204</td>\n",
       "      <td>-0.951659</td>\n",
       "      <td>-0.078804</td>\n",
       "      <td>...</td>\n",
       "      <td>0.0</td>\n",
       "      <td>A220</td>\n",
       "      <td>A220_anx_v_3.csv</td>\n",
       "      <td>False</td>\n",
       "      <td>anx</td>\n",
       "      <td>v</td>\n",
       "      <td>3</td>\n",
       "      <td>NaN</td>\n",
       "      <td>NaN</td>\n",
       "      <td>NaN</td>\n",
       "    </tr>\n",
       "    <tr>\n",
       "      <th>110585</th>\n",
       "      <td>307</td>\n",
       "      <td>308</td>\n",
       "      <td>0</td>\n",
       "      <td>6.14</td>\n",
       "      <td>0.98</td>\n",
       "      <td>1</td>\n",
       "      <td>0.079877</td>\n",
       "      <td>0.291925</td>\n",
       "      <td>-0.953100</td>\n",
       "      <td>-0.080352</td>\n",
       "      <td>...</td>\n",
       "      <td>0.0</td>\n",
       "      <td>A220</td>\n",
       "      <td>A220_anx_v_3.csv</td>\n",
       "      <td>False</td>\n",
       "      <td>anx</td>\n",
       "      <td>v</td>\n",
       "      <td>3</td>\n",
       "      <td>NaN</td>\n",
       "      <td>NaN</td>\n",
       "      <td>NaN</td>\n",
       "    </tr>\n",
       "    <tr>\n",
       "      <th>110586</th>\n",
       "      <td>308</td>\n",
       "      <td>309</td>\n",
       "      <td>0</td>\n",
       "      <td>6.16</td>\n",
       "      <td>0.93</td>\n",
       "      <td>1</td>\n",
       "      <td>0.083870</td>\n",
       "      <td>0.294762</td>\n",
       "      <td>-0.951883</td>\n",
       "      <td>-0.083980</td>\n",
       "      <td>...</td>\n",
       "      <td>0.0</td>\n",
       "      <td>A220</td>\n",
       "      <td>A220_anx_v_3.csv</td>\n",
       "      <td>False</td>\n",
       "      <td>anx</td>\n",
       "      <td>v</td>\n",
       "      <td>3</td>\n",
       "      <td>NaN</td>\n",
       "      <td>NaN</td>\n",
       "      <td>NaN</td>\n",
       "    </tr>\n",
       "    <tr>\n",
       "      <th>110587</th>\n",
       "      <td>309</td>\n",
       "      <td>310</td>\n",
       "      <td>0</td>\n",
       "      <td>6.18</td>\n",
       "      <td>0.98</td>\n",
       "      <td>1</td>\n",
       "      <td>0.087696</td>\n",
       "      <td>0.290760</td>\n",
       "      <td>-0.952769</td>\n",
       "      <td>-0.090642</td>\n",
       "      <td>...</td>\n",
       "      <td>0.0</td>\n",
       "      <td>A220</td>\n",
       "      <td>A220_anx_v_3.csv</td>\n",
       "      <td>False</td>\n",
       "      <td>anx</td>\n",
       "      <td>v</td>\n",
       "      <td>3</td>\n",
       "      <td>NaN</td>\n",
       "      <td>NaN</td>\n",
       "      <td>NaN</td>\n",
       "    </tr>\n",
       "  </tbody>\n",
       "</table>\n",
       "<p>110588 rows × 724 columns</p>\n",
       "</div>"
      ],
      "text/plain": [
       "        Unnamed: 0  frame  face_id  timestamp  confidence  success  gaze_0_x  \\\n",
       "0                0      1        0       0.00        0.98        1 -0.062394   \n",
       "1                1      2        0       0.02        0.98        1 -0.052638   \n",
       "2                2      3        0       0.04        0.98        1 -0.050868   \n",
       "3                3      4        0       0.06        0.98        1 -0.053854   \n",
       "4                4      5        0       0.08        0.98        1 -0.049128   \n",
       "...            ...    ...      ...        ...         ...      ...       ...   \n",
       "110583         305    306        0       6.10        0.98        1  0.085220   \n",
       "110584         306    307        0       6.12        0.98        1  0.081289   \n",
       "110585         307    308        0       6.14        0.98        1  0.079877   \n",
       "110586         308    309        0       6.16        0.93        1  0.083870   \n",
       "110587         309    310        0       6.18        0.98        1  0.087696   \n",
       "\n",
       "        gaze_0_y  gaze_0_z  gaze_1_x  ...  AU45_c  video_id              file  \\\n",
       "0       0.301228 -0.951509 -0.192912  ...     1.0      A220  A220_reg_p_2.csv   \n",
       "1       0.300214 -0.952418 -0.205766  ...     0.0      A220  A220_reg_p_2.csv   \n",
       "2       0.293366 -0.954646 -0.208241  ...     0.0      A220  A220_reg_p_2.csv   \n",
       "3       0.298332 -0.952942 -0.204404  ...     0.0      A220  A220_reg_p_2.csv   \n",
       "4       0.298474 -0.953153 -0.201120  ...     0.0      A220  A220_reg_p_2.csv   \n",
       "...          ...       ...       ...  ...     ...       ...               ...   \n",
       "110583  0.297743 -0.950835 -0.092437  ...     0.0      A220  A220_anx_v_3.csv   \n",
       "110584  0.296204 -0.951659 -0.078804  ...     0.0      A220  A220_anx_v_3.csv   \n",
       "110585  0.291925 -0.953100 -0.080352  ...     0.0      A220  A220_anx_v_3.csv   \n",
       "110586  0.294762 -0.951883 -0.083980  ...     0.0      A220  A220_anx_v_3.csv   \n",
       "110587  0.290760 -0.952769 -0.090642  ...     0.0      A220  A220_anx_v_3.csv   \n",
       "\n",
       "          mix  emotion_1  vocalization  intensity_level  emotion_2  \\\n",
       "0       False        reg             p                2        NaN   \n",
       "1       False        reg             p                2        NaN   \n",
       "2       False        reg             p                2        NaN   \n",
       "3       False        reg             p                2        NaN   \n",
       "4       False        reg             p                2        NaN   \n",
       "...       ...        ...           ...              ...        ...   \n",
       "110583  False        anx             v                3        NaN   \n",
       "110584  False        anx             v                3        NaN   \n",
       "110585  False        anx             v                3        NaN   \n",
       "110586  False        anx             v                3        NaN   \n",
       "110587  False        anx             v                3        NaN   \n",
       "\n",
       "        proportions  situation  \n",
       "0               NaN        NaN  \n",
       "1               NaN        NaN  \n",
       "2               NaN        NaN  \n",
       "3               NaN        NaN  \n",
       "4               NaN        NaN  \n",
       "...             ...        ...  \n",
       "110583          NaN        NaN  \n",
       "110584          NaN        NaN  \n",
       "110585          NaN        NaN  \n",
       "110586          NaN        NaN  \n",
       "110587          NaN        NaN  \n",
       "\n",
       "[110588 rows x 724 columns]"
      ]
     },
     "execution_count": 102,
     "metadata": {},
     "output_type": "execute_result"
    }
   ],
   "source": [
    "df"
   ]
  },
  {
   "cell_type": "markdown",
   "id": "beee1408",
   "metadata": {},
   "source": [
    "Drop mized emotions, get rid of all columns except action units, emotion and filename"
   ]
  },
  {
   "cell_type": "code",
   "execution_count": 103,
   "id": "362b0b99",
   "metadata": {},
   "outputs": [],
   "source": [
    "df_tmp = df[df['mix'] == False]\n",
    "df_tmp = df_tmp.loc[:, df_tmp.columns.str.startswith(('AU', \"emotion_1\", \"file\"))]"
   ]
  },
  {
   "cell_type": "markdown",
   "id": "6da39320",
   "metadata": {},
   "source": [
    "Group by filename, calculate mean value"
   ]
  },
  {
   "cell_type": "code",
   "execution_count": 104,
   "id": "900dcd6c",
   "metadata": {},
   "outputs": [],
   "source": [
    "df_tmp = df_tmp.groupby('file').mean()"
   ]
  },
  {
   "cell_type": "markdown",
   "id": "e5388fb4",
   "metadata": {},
   "source": [
    "Create metadata dataframe"
   ]
  },
  {
   "cell_type": "code",
   "execution_count": 105,
   "id": "61d3c3c2",
   "metadata": {},
   "outputs": [],
   "source": [
    "metadata_df = df[['file','emotion_1']].drop_duplicates()"
   ]
  },
  {
   "cell_type": "markdown",
   "id": "6962d832",
   "metadata": {},
   "source": [
    "Merge metadata (emotion) with action units means and filename"
   ]
  },
  {
   "cell_type": "code",
   "execution_count": 106,
   "id": "142e41a4",
   "metadata": {},
   "outputs": [],
   "source": [
    "df_tmp = pd.merge(df_tmp, metadata_df, on='file')"
   ]
  },
  {
   "cell_type": "code",
   "execution_count": 107,
   "id": "dbd13088",
   "metadata": {},
   "outputs": [
    {
     "data": {
      "text/html": [
       "<div>\n",
       "<style scoped>\n",
       "    .dataframe tbody tr th:only-of-type {\n",
       "        vertical-align: middle;\n",
       "    }\n",
       "\n",
       "    .dataframe tbody tr th {\n",
       "        vertical-align: top;\n",
       "    }\n",
       "\n",
       "    .dataframe thead th {\n",
       "        text-align: right;\n",
       "    }\n",
       "</style>\n",
       "<table border=\"1\" class=\"dataframe\">\n",
       "  <thead>\n",
       "    <tr style=\"text-align: right;\">\n",
       "      <th></th>\n",
       "      <th>file</th>\n",
       "      <th>AU01_r</th>\n",
       "      <th>AU02_r</th>\n",
       "      <th>AU04_r</th>\n",
       "      <th>AU05_r</th>\n",
       "      <th>AU06_r</th>\n",
       "      <th>AU07_r</th>\n",
       "      <th>AU09_r</th>\n",
       "      <th>AU10_r</th>\n",
       "      <th>AU12_r</th>\n",
       "      <th>...</th>\n",
       "      <th>AU14_c</th>\n",
       "      <th>AU15_c</th>\n",
       "      <th>AU17_c</th>\n",
       "      <th>AU20_c</th>\n",
       "      <th>AU23_c</th>\n",
       "      <th>AU25_c</th>\n",
       "      <th>AU26_c</th>\n",
       "      <th>AU28_c</th>\n",
       "      <th>AU45_c</th>\n",
       "      <th>emotion_1</th>\n",
       "    </tr>\n",
       "  </thead>\n",
       "  <tbody>\n",
       "    <tr>\n",
       "      <th>0</th>\n",
       "      <td>A220_adm_p_1.csv</td>\n",
       "      <td>0.097253</td>\n",
       "      <td>0.058352</td>\n",
       "      <td>0.020824</td>\n",
       "      <td>0.030000</td>\n",
       "      <td>0.574670</td>\n",
       "      <td>0.113462</td>\n",
       "      <td>0.034890</td>\n",
       "      <td>2.372967</td>\n",
       "      <td>1.469725</td>\n",
       "      <td>...</td>\n",
       "      <td>0.956044</td>\n",
       "      <td>0.000000</td>\n",
       "      <td>0.307692</td>\n",
       "      <td>0.192308</td>\n",
       "      <td>0.016484</td>\n",
       "      <td>0.219780</td>\n",
       "      <td>0.093407</td>\n",
       "      <td>0.000000</td>\n",
       "      <td>0.247253</td>\n",
       "      <td>adm</td>\n",
       "    </tr>\n",
       "    <tr>\n",
       "      <th>1</th>\n",
       "      <td>A220_adm_p_2.csv</td>\n",
       "      <td>0.148299</td>\n",
       "      <td>0.079004</td>\n",
       "      <td>0.006763</td>\n",
       "      <td>0.054066</td>\n",
       "      <td>0.459793</td>\n",
       "      <td>0.094274</td>\n",
       "      <td>0.051867</td>\n",
       "      <td>2.065643</td>\n",
       "      <td>1.334938</td>\n",
       "      <td>...</td>\n",
       "      <td>0.970954</td>\n",
       "      <td>0.124481</td>\n",
       "      <td>0.307054</td>\n",
       "      <td>0.182573</td>\n",
       "      <td>0.000000</td>\n",
       "      <td>0.307054</td>\n",
       "      <td>0.024896</td>\n",
       "      <td>0.000000</td>\n",
       "      <td>0.219917</td>\n",
       "      <td>adm</td>\n",
       "    </tr>\n",
       "    <tr>\n",
       "      <th>2</th>\n",
       "      <td>A220_adm_p_3.csv</td>\n",
       "      <td>0.225489</td>\n",
       "      <td>0.082809</td>\n",
       "      <td>0.048511</td>\n",
       "      <td>0.034936</td>\n",
       "      <td>0.721149</td>\n",
       "      <td>0.303872</td>\n",
       "      <td>0.065404</td>\n",
       "      <td>2.272340</td>\n",
       "      <td>1.617957</td>\n",
       "      <td>...</td>\n",
       "      <td>0.982979</td>\n",
       "      <td>0.038298</td>\n",
       "      <td>0.297872</td>\n",
       "      <td>0.123404</td>\n",
       "      <td>0.000000</td>\n",
       "      <td>0.110638</td>\n",
       "      <td>0.200000</td>\n",
       "      <td>0.000000</td>\n",
       "      <td>0.289362</td>\n",
       "      <td>adm</td>\n",
       "    </tr>\n",
       "    <tr>\n",
       "      <th>3</th>\n",
       "      <td>A220_adm_p_4.csv</td>\n",
       "      <td>0.161825</td>\n",
       "      <td>0.046958</td>\n",
       "      <td>0.005095</td>\n",
       "      <td>0.035551</td>\n",
       "      <td>0.831939</td>\n",
       "      <td>0.366654</td>\n",
       "      <td>0.029848</td>\n",
       "      <td>2.274411</td>\n",
       "      <td>1.814905</td>\n",
       "      <td>...</td>\n",
       "      <td>0.984791</td>\n",
       "      <td>0.026616</td>\n",
       "      <td>0.266160</td>\n",
       "      <td>0.000000</td>\n",
       "      <td>0.000000</td>\n",
       "      <td>0.015209</td>\n",
       "      <td>0.019011</td>\n",
       "      <td>0.000000</td>\n",
       "      <td>0.209125</td>\n",
       "      <td>adm</td>\n",
       "    </tr>\n",
       "    <tr>\n",
       "      <th>4</th>\n",
       "      <td>A220_adm_v_1.csv</td>\n",
       "      <td>0.079172</td>\n",
       "      <td>0.057239</td>\n",
       "      <td>0.075828</td>\n",
       "      <td>0.028466</td>\n",
       "      <td>0.429847</td>\n",
       "      <td>0.329417</td>\n",
       "      <td>0.041166</td>\n",
       "      <td>2.196933</td>\n",
       "      <td>1.078374</td>\n",
       "      <td>...</td>\n",
       "      <td>1.000000</td>\n",
       "      <td>0.000000</td>\n",
       "      <td>0.153374</td>\n",
       "      <td>0.027607</td>\n",
       "      <td>0.000000</td>\n",
       "      <td>0.052147</td>\n",
       "      <td>0.248466</td>\n",
       "      <td>0.000000</td>\n",
       "      <td>0.226994</td>\n",
       "      <td>adm</td>\n",
       "    </tr>\n",
       "    <tr>\n",
       "      <th>...</th>\n",
       "      <td>...</td>\n",
       "      <td>...</td>\n",
       "      <td>...</td>\n",
       "      <td>...</td>\n",
       "      <td>...</td>\n",
       "      <td>...</td>\n",
       "      <td>...</td>\n",
       "      <td>...</td>\n",
       "      <td>...</td>\n",
       "      <td>...</td>\n",
       "      <td>...</td>\n",
       "      <td>...</td>\n",
       "      <td>...</td>\n",
       "      <td>...</td>\n",
       "      <td>...</td>\n",
       "      <td>...</td>\n",
       "      <td>...</td>\n",
       "      <td>...</td>\n",
       "      <td>...</td>\n",
       "      <td>...</td>\n",
       "      <td>...</td>\n",
       "    </tr>\n",
       "    <tr>\n",
       "      <th>347</th>\n",
       "      <td>A220_tri_p_4.csv</td>\n",
       "      <td>0.175213</td>\n",
       "      <td>0.081738</td>\n",
       "      <td>0.007943</td>\n",
       "      <td>0.073156</td>\n",
       "      <td>1.182518</td>\n",
       "      <td>0.815319</td>\n",
       "      <td>0.084752</td>\n",
       "      <td>2.057553</td>\n",
       "      <td>2.452589</td>\n",
       "      <td>...</td>\n",
       "      <td>0.726950</td>\n",
       "      <td>0.535461</td>\n",
       "      <td>0.294326</td>\n",
       "      <td>0.127660</td>\n",
       "      <td>0.248227</td>\n",
       "      <td>0.166667</td>\n",
       "      <td>0.280142</td>\n",
       "      <td>0.031915</td>\n",
       "      <td>0.209220</td>\n",
       "      <td>tri</td>\n",
       "    </tr>\n",
       "    <tr>\n",
       "      <th>348</th>\n",
       "      <td>A220_tri_v_1.csv</td>\n",
       "      <td>0.097328</td>\n",
       "      <td>0.043190</td>\n",
       "      <td>0.308621</td>\n",
       "      <td>0.035086</td>\n",
       "      <td>1.275431</td>\n",
       "      <td>0.193190</td>\n",
       "      <td>0.020000</td>\n",
       "      <td>2.703103</td>\n",
       "      <td>1.601810</td>\n",
       "      <td>...</td>\n",
       "      <td>1.000000</td>\n",
       "      <td>0.025862</td>\n",
       "      <td>0.396552</td>\n",
       "      <td>0.000000</td>\n",
       "      <td>0.068966</td>\n",
       "      <td>0.422414</td>\n",
       "      <td>0.353448</td>\n",
       "      <td>0.000000</td>\n",
       "      <td>0.025862</td>\n",
       "      <td>tri</td>\n",
       "    </tr>\n",
       "    <tr>\n",
       "      <th>349</th>\n",
       "      <td>A220_tri_v_2.csv</td>\n",
       "      <td>0.071863</td>\n",
       "      <td>0.043043</td>\n",
       "      <td>0.127267</td>\n",
       "      <td>0.021304</td>\n",
       "      <td>1.569752</td>\n",
       "      <td>0.399814</td>\n",
       "      <td>0.024099</td>\n",
       "      <td>2.380435</td>\n",
       "      <td>2.086957</td>\n",
       "      <td>...</td>\n",
       "      <td>1.000000</td>\n",
       "      <td>0.136646</td>\n",
       "      <td>0.080745</td>\n",
       "      <td>0.136646</td>\n",
       "      <td>0.000000</td>\n",
       "      <td>0.155280</td>\n",
       "      <td>0.161491</td>\n",
       "      <td>0.000000</td>\n",
       "      <td>0.149068</td>\n",
       "      <td>tri</td>\n",
       "    </tr>\n",
       "    <tr>\n",
       "      <th>350</th>\n",
       "      <td>A220_tri_v_3.csv</td>\n",
       "      <td>0.131946</td>\n",
       "      <td>0.039732</td>\n",
       "      <td>0.745503</td>\n",
       "      <td>0.032349</td>\n",
       "      <td>1.999799</td>\n",
       "      <td>1.060537</td>\n",
       "      <td>0.338792</td>\n",
       "      <td>2.683221</td>\n",
       "      <td>2.183490</td>\n",
       "      <td>...</td>\n",
       "      <td>1.000000</td>\n",
       "      <td>0.463087</td>\n",
       "      <td>0.295302</td>\n",
       "      <td>0.281879</td>\n",
       "      <td>0.395973</td>\n",
       "      <td>0.234899</td>\n",
       "      <td>0.228188</td>\n",
       "      <td>0.000000</td>\n",
       "      <td>0.241611</td>\n",
       "      <td>tri</td>\n",
       "    </tr>\n",
       "    <tr>\n",
       "      <th>351</th>\n",
       "      <td>A220_tri_v_4.csv</td>\n",
       "      <td>1.093151</td>\n",
       "      <td>0.366881</td>\n",
       "      <td>0.069871</td>\n",
       "      <td>0.057235</td>\n",
       "      <td>1.804502</td>\n",
       "      <td>0.893055</td>\n",
       "      <td>0.089389</td>\n",
       "      <td>2.613601</td>\n",
       "      <td>2.521383</td>\n",
       "      <td>...</td>\n",
       "      <td>1.000000</td>\n",
       "      <td>0.655949</td>\n",
       "      <td>0.282958</td>\n",
       "      <td>0.209003</td>\n",
       "      <td>0.581994</td>\n",
       "      <td>0.427653</td>\n",
       "      <td>0.372990</td>\n",
       "      <td>0.000000</td>\n",
       "      <td>0.225080</td>\n",
       "      <td>tri</td>\n",
       "    </tr>\n",
       "  </tbody>\n",
       "</table>\n",
       "<p>352 rows × 37 columns</p>\n",
       "</div>"
      ],
      "text/plain": [
       "                 file    AU01_r    AU02_r    AU04_r    AU05_r    AU06_r  \\\n",
       "0    A220_adm_p_1.csv  0.097253  0.058352  0.020824  0.030000  0.574670   \n",
       "1    A220_adm_p_2.csv  0.148299  0.079004  0.006763  0.054066  0.459793   \n",
       "2    A220_adm_p_3.csv  0.225489  0.082809  0.048511  0.034936  0.721149   \n",
       "3    A220_adm_p_4.csv  0.161825  0.046958  0.005095  0.035551  0.831939   \n",
       "4    A220_adm_v_1.csv  0.079172  0.057239  0.075828  0.028466  0.429847   \n",
       "..                ...       ...       ...       ...       ...       ...   \n",
       "347  A220_tri_p_4.csv  0.175213  0.081738  0.007943  0.073156  1.182518   \n",
       "348  A220_tri_v_1.csv  0.097328  0.043190  0.308621  0.035086  1.275431   \n",
       "349  A220_tri_v_2.csv  0.071863  0.043043  0.127267  0.021304  1.569752   \n",
       "350  A220_tri_v_3.csv  0.131946  0.039732  0.745503  0.032349  1.999799   \n",
       "351  A220_tri_v_4.csv  1.093151  0.366881  0.069871  0.057235  1.804502   \n",
       "\n",
       "       AU07_r    AU09_r    AU10_r    AU12_r  ...    AU14_c    AU15_c  \\\n",
       "0    0.113462  0.034890  2.372967  1.469725  ...  0.956044  0.000000   \n",
       "1    0.094274  0.051867  2.065643  1.334938  ...  0.970954  0.124481   \n",
       "2    0.303872  0.065404  2.272340  1.617957  ...  0.982979  0.038298   \n",
       "3    0.366654  0.029848  2.274411  1.814905  ...  0.984791  0.026616   \n",
       "4    0.329417  0.041166  2.196933  1.078374  ...  1.000000  0.000000   \n",
       "..        ...       ...       ...       ...  ...       ...       ...   \n",
       "347  0.815319  0.084752  2.057553  2.452589  ...  0.726950  0.535461   \n",
       "348  0.193190  0.020000  2.703103  1.601810  ...  1.000000  0.025862   \n",
       "349  0.399814  0.024099  2.380435  2.086957  ...  1.000000  0.136646   \n",
       "350  1.060537  0.338792  2.683221  2.183490  ...  1.000000  0.463087   \n",
       "351  0.893055  0.089389  2.613601  2.521383  ...  1.000000  0.655949   \n",
       "\n",
       "       AU17_c    AU20_c    AU23_c    AU25_c    AU26_c    AU28_c    AU45_c  \\\n",
       "0    0.307692  0.192308  0.016484  0.219780  0.093407  0.000000  0.247253   \n",
       "1    0.307054  0.182573  0.000000  0.307054  0.024896  0.000000  0.219917   \n",
       "2    0.297872  0.123404  0.000000  0.110638  0.200000  0.000000  0.289362   \n",
       "3    0.266160  0.000000  0.000000  0.015209  0.019011  0.000000  0.209125   \n",
       "4    0.153374  0.027607  0.000000  0.052147  0.248466  0.000000  0.226994   \n",
       "..        ...       ...       ...       ...       ...       ...       ...   \n",
       "347  0.294326  0.127660  0.248227  0.166667  0.280142  0.031915  0.209220   \n",
       "348  0.396552  0.000000  0.068966  0.422414  0.353448  0.000000  0.025862   \n",
       "349  0.080745  0.136646  0.000000  0.155280  0.161491  0.000000  0.149068   \n",
       "350  0.295302  0.281879  0.395973  0.234899  0.228188  0.000000  0.241611   \n",
       "351  0.282958  0.209003  0.581994  0.427653  0.372990  0.000000  0.225080   \n",
       "\n",
       "     emotion_1  \n",
       "0          adm  \n",
       "1          adm  \n",
       "2          adm  \n",
       "3          adm  \n",
       "4          adm  \n",
       "..         ...  \n",
       "347        tri  \n",
       "348        tri  \n",
       "349        tri  \n",
       "350        tri  \n",
       "351        tri  \n",
       "\n",
       "[352 rows x 37 columns]"
      ]
     },
     "execution_count": 107,
     "metadata": {},
     "output_type": "execute_result"
    }
   ],
   "source": [
    "df_tmp"
   ]
  },
  {
   "cell_type": "markdown",
   "id": "8df62b3f",
   "metadata": {},
   "source": [
    "Convert everything to numpy"
   ]
  },
  {
   "cell_type": "code",
   "execution_count": 108,
   "id": "756769e0",
   "metadata": {},
   "outputs": [
    {
     "data": {
      "text/plain": [
       "array([[0.09725275, 0.05835165, 0.02082418, ..., 0.09340659, 0.        ,\n",
       "        0.24725275],\n",
       "       [0.14829876, 0.07900415, 0.00676349, ..., 0.02489627, 0.        ,\n",
       "        0.21991701],\n",
       "       [0.22548936, 0.08280851, 0.04851064, ..., 0.2       , 0.        ,\n",
       "        0.2893617 ],\n",
       "       ...,\n",
       "       [0.07186335, 0.04304348, 0.12726708, ..., 0.16149068, 0.        ,\n",
       "        0.14906832],\n",
       "       [0.13194631, 0.03973154, 0.74550336, ..., 0.22818792, 0.        ,\n",
       "        0.24161074],\n",
       "       [1.09315113, 0.36688103, 0.06987138, ..., 0.37299035, 0.        ,\n",
       "        0.22508039]])"
      ]
     },
     "execution_count": 108,
     "metadata": {},
     "output_type": "execute_result"
    }
   ],
   "source": [
    "# Convert your data frame's columns into arrays\n",
    "x = df_tmp.loc[:, df_tmp.columns.str.startswith(('AU'))].to_numpy()\n",
    "x"
   ]
  },
  {
   "cell_type": "code",
   "execution_count": 146,
   "id": "05a35a16",
   "metadata": {},
   "outputs": [
    {
     "data": {
      "text/plain": [
       "(352, 35)"
      ]
     },
     "execution_count": 146,
     "metadata": {},
     "output_type": "execute_result"
    }
   ],
   "source": [
    "x.shape"
   ]
  },
  {
   "cell_type": "code",
   "execution_count": 110,
   "id": "757c1902",
   "metadata": {},
   "outputs": [
    {
     "data": {
      "text/plain": [
       "array(['adm', 'adm', 'adm', 'adm', 'adm', 'adm', 'adm', 'adm', 'amu',\n",
       "       'amu', 'amu', 'amu', 'amu', 'amu', 'amu', 'amu', 'ang', 'ang',\n",
       "       'ang', 'ang', 'ang', 'ang', 'ang', 'ang', 'anx', 'anx', 'anx',\n",
       "       'anx', 'anx', 'anx', 'anx', 'anx', 'awe', 'awe', 'awe', 'awe',\n",
       "       'awe', 'awe', 'awe', 'awe', 'bor', 'bor', 'bor', 'bor', 'bor',\n",
       "       'bor', 'bor', 'bor', 'conc', 'conc', 'conc', 'conc', 'conc',\n",
       "       'conc', 'conc', 'conc', 'conf', 'conf', 'conf', 'conf', 'conf',\n",
       "       'conf', 'conf', 'conf', 'cont', 'cont', 'cont', 'cont', 'cont',\n",
       "       'cont', 'cont', 'cont', 'det', 'det', 'det', 'det', 'det', 'det',\n",
       "       'det', 'det', 'disa', 'disa', 'disa', 'disa', 'disa', 'disa',\n",
       "       'disa', 'disa', 'disg', 'disg', 'disg', 'disg', 'disg', 'disg',\n",
       "       'disg', 'disg', 'dist', 'dist', 'dist', 'dist', 'dist', 'dist',\n",
       "       'dist', 'dist', 'dou', 'dou', 'dou', 'dou', 'dou', 'dou', 'dou',\n",
       "       'dou', 'ele', 'ele', 'ele', 'ele', 'ele', 'ele', 'ele', 'ele',\n",
       "       'emb', 'emb', 'emb', 'emb', 'emb', 'emb', 'emb', 'emb', 'env',\n",
       "       'env', 'env', 'env', 'env', 'env', 'env', 'env', 'exc', 'exc',\n",
       "       'exc', 'exc', 'exc', 'exc', 'exc', 'exc', 'fea', 'fea', 'fea',\n",
       "       'fea', 'fea', 'fea', 'fea', 'fea', 'gra', 'gra', 'gra', 'gra',\n",
       "       'gra', 'gra', 'gra', 'gra', 'gui', 'gui', 'gui', 'gui', 'gui',\n",
       "       'gui', 'gui', 'gui', 'hap', 'hap', 'hap', 'hap', 'hap', 'hap',\n",
       "       'hap', 'hap', 'hop', 'hop', 'hop', 'hop', 'hop', 'hop', 'hop',\n",
       "       'hop', 'ins', 'ins', 'ins', 'ins', 'ins', 'ins', 'ins', 'ins',\n",
       "       'int', 'int', 'int', 'int', 'int', 'int', 'int', 'int', 'mov',\n",
       "       'mov', 'mov', 'mov', 'mov', 'mov', 'mov', 'mov', 'neg_sur',\n",
       "       'neg_sur', 'neg_sur', 'neg_sur', 'neg_sur', 'neg_sur', 'neg_sur',\n",
       "       'neg_sur', 'neu', 'neu', 'neu', 'neu', 'neu', 'neu', 'neu', 'neu',\n",
       "       'nos', 'nos', 'nos', 'nos', 'nos', 'nos', 'nos', 'nos', 'pea',\n",
       "       'pea', 'pea', 'pea', 'pea', 'pea', 'pea', 'pea', 'ple', 'ple',\n",
       "       'ple', 'ple', 'ple', 'ple', 'ple', 'ple', 'pos_sur', 'pos_sur',\n",
       "       'pos_sur', 'pos_sur', 'pos_sur', 'pos_sur', 'pos_sur', 'pos_sur',\n",
       "       'pri', 'pri', 'pri', 'pri', 'pri', 'pri', 'pri', 'pri', 'reg',\n",
       "       'reg', 'reg', 'reg', 'reg', 'reg', 'reg', 'reg', 'rej', 'rej',\n",
       "       'rej', 'rej', 'rej', 'rej', 'rej', 'rej', 'rel', 'rel', 'rel',\n",
       "       'rel', 'rel', 'rel', 'rel', 'rel', 'sad', 'sad', 'sad', 'sad',\n",
       "       'sad', 'sad', 'sad', 'sad', 'sar', 'sar', 'sar', 'sar', 'sar',\n",
       "       'sar', 'sar', 'sar', 'sat', 'sat', 'sat', 'sat', 'sat', 'sat',\n",
       "       'sat', 'sat', 'scha', 'scha', 'scha', 'scha', 'scha', 'scha',\n",
       "       'scha', 'scha', 'sex', 'sex', 'sex', 'sex', 'sex', 'sex', 'sex',\n",
       "       'sex', 'sha', 'sha', 'sha', 'sha', 'sha', 'sha', 'sha', 'sha',\n",
       "       'ten', 'ten', 'ten', 'ten', 'ten', 'ten', 'ten', 'ten', 'tri',\n",
       "       'tri', 'tri', 'tri', 'tri', 'tri', 'tri', 'tri'], dtype=object)"
      ]
     },
     "execution_count": 110,
     "metadata": {},
     "output_type": "execute_result"
    }
   ],
   "source": [
    "y = df_tmp['emotion_1'].to_numpy()\n",
    "y"
   ]
  },
  {
   "cell_type": "code",
   "execution_count": 147,
   "id": "8af0c010",
   "metadata": {},
   "outputs": [
    {
     "data": {
      "text/plain": [
       "(352,)"
      ]
     },
     "execution_count": 147,
     "metadata": {},
     "output_type": "execute_result"
    }
   ],
   "source": [
    "y.shape"
   ]
  },
  {
   "cell_type": "markdown",
   "id": "b4cbfa49",
   "metadata": {},
   "source": [
    "Split into training and test sets"
   ]
  },
  {
   "cell_type": "code",
   "execution_count": 152,
   "id": "11cb9da0",
   "metadata": {},
   "outputs": [],
   "source": [
    "x_train,x_test,y_train,y_test=train_test_split(x,y,test_size=0.2)"
   ]
  },
  {
   "cell_type": "code",
   "execution_count": 148,
   "id": "fb36bb78",
   "metadata": {},
   "outputs": [
    {
     "data": {
      "text/plain": [
       "SVC()"
      ]
     },
     "execution_count": 148,
     "metadata": {},
     "output_type": "execute_result"
    }
   ],
   "source": [
    "# feed into your classifier \n",
    "clf = svm.SVC()\n",
    "clf.fit(x_train, y_train)"
   ]
  },
  {
   "cell_type": "markdown",
   "id": "b6f8f29b",
   "metadata": {},
   "source": [
    "Lets look at the predictions..."
   ]
  },
  {
   "cell_type": "code",
   "execution_count": 114,
   "id": "37339119",
   "metadata": {},
   "outputs": [
    {
     "data": {
      "text/plain": [
       "array(['disg', 'awe', 'fea', 'conf', 'pri', 'dist', 'pri', 'cont', 'bor',\n",
       "       'sex', 'neg_sur', 'bor', 'hap', 'adm', 'sex', 'bor', 'hop', 'bor',\n",
       "       'bor', 'sex', 'neu', 'pos_sur', 'dist', 'adm', 'fea', 'sex', 'sex',\n",
       "       'hap', 'adm', 'sex', 'ins', 'bor', 'pri', 'fea', 'neg_sur', 'ins',\n",
       "       'sex', 'awe', 'pri', 'pri', 'hap', 'fea', 'hap', 'adm', 'adm',\n",
       "       'adm', 'fea', 'pri', 'scha', 'neu', 'gra', 'neu', 'adm', 'dist',\n",
       "       'hap', 'neg_sur', 'env', 'env', 'tri', 'bor', 'adm', 'adm', 'nos',\n",
       "       'pos_sur', 'adm', 'dist', 'pos_sur', 'hap', 'pos_sur', 'scha',\n",
       "       'dou'], dtype=object)"
      ]
     },
     "execution_count": 114,
     "metadata": {},
     "output_type": "execute_result"
    }
   ],
   "source": [
    "clf.predict(x_test)"
   ]
  },
  {
   "cell_type": "code",
   "execution_count": 115,
   "id": "02fb0253",
   "metadata": {
    "scrolled": true
   },
   "outputs": [
    {
     "data": {
      "text/plain": [
       "array(['disg', 'ple', 'disa', 'conf', 'ten', 'dist', 'nos', 'cont', 'rel',\n",
       "       'anx', 'neg_sur', 'pea', 'amu', 'tri', 'reg', 'pea', 'emb', 'rel',\n",
       "       'rel', 'anx', 'bor', 'int', 'reg', 'exc', 'sad', 'rej', 'rej',\n",
       "       'mov', 'exc', 'sha', 'gra', 'pea', 'ple', 'disa', 'cont', 'ins',\n",
       "       'sha', 'ple', 'ple', 'pri', 'amu', 'gui', 'sat', 'ple', 'tri',\n",
       "       'exc', 'sha', 'sat', 'mov', 'awe', 'hop', 'reg', 'mov', 'anx',\n",
       "       'amu', 'neg_sur', 'env', 'disg', 'tri', 'bor', 'ele', 'adm', 'sar',\n",
       "       'int', 'int', 'sha', 'sar', 'hap', 'pos_sur', 'scha', 'emb'],\n",
       "      dtype=object)"
      ]
     },
     "execution_count": 115,
     "metadata": {},
     "output_type": "execute_result"
    }
   ],
   "source": [
    "y_test"
   ]
  },
  {
   "cell_type": "markdown",
   "id": "012f7f6c",
   "metadata": {},
   "source": [
    "Look at the total score, not very good..."
   ]
  },
  {
   "cell_type": "code",
   "execution_count": 116,
   "id": "eea6cf08",
   "metadata": {},
   "outputs": [
    {
     "data": {
      "text/plain": [
       "0.2112676056338028"
      ]
     },
     "execution_count": 116,
     "metadata": {},
     "output_type": "execute_result"
    }
   ],
   "source": [
    "clf.score(x_test, y_test)"
   ]
  },
  {
   "cell_type": "markdown",
   "id": "40066a14",
   "metadata": {},
   "source": [
    "Lets try with some other kernels..."
   ]
  },
  {
   "cell_type": "code",
   "execution_count": 117,
   "id": "fc3d3303",
   "metadata": {},
   "outputs": [
    {
     "data": {
      "text/plain": [
       "0.2535211267605634"
      ]
     },
     "execution_count": 117,
     "metadata": {},
     "output_type": "execute_result"
    }
   ],
   "source": [
    "# polynomial kernel\n",
    "clf = svm.SVC(kernel = \"poly\")\n",
    "clf.fit(x_train, y_train)\n",
    "clf.score(x_test, y_test)"
   ]
  },
  {
   "cell_type": "code",
   "execution_count": 118,
   "id": "4b4d586a",
   "metadata": {},
   "outputs": [
    {
     "data": {
      "text/plain": [
       "0.2112676056338028"
      ]
     },
     "execution_count": 118,
     "metadata": {},
     "output_type": "execute_result"
    }
   ],
   "source": [
    "# rbf\n",
    "clf = svm.SVC(kernel = \"rbf\")\n",
    "clf.fit(x_train, y_train)\n",
    "clf.score(x_test, y_test)"
   ]
  },
  {
   "cell_type": "code",
   "execution_count": 153,
   "id": "01536bdf",
   "metadata": {},
   "outputs": [
    {
     "data": {
      "text/plain": [
       "0.39436619718309857"
      ]
     },
     "execution_count": 153,
     "metadata": {},
     "output_type": "execute_result"
    }
   ],
   "source": [
    "# linear\n",
    "clf = svm.SVC(kernel = \"linear\")\n",
    "clf.fit(x_train, y_train)\n",
    "clf.score(x_test, y_test)"
   ]
  },
  {
   "cell_type": "code",
   "execution_count": 150,
   "id": "8c71e7c9",
   "metadata": {},
   "outputs": [
    {
     "data": {
      "text/plain": [
       "array(['disg', 'ten', 'disa', 'conf', 'pri', 'dist', 'ten', 'det', 'rel',\n",
       "       'anx', 'neg_sur', 'bor', 'amu', 'tri', 'gui', 'bor', 'hop', 'rel',\n",
       "       'bor', 'rej', 'dou', 'pos_sur', 'reg', 'pos_sur', 'fea', 'anx',\n",
       "       'rej', 'hap', 'exc', 'sex', 'ins', 'bor', 'pri', 'fea', 'env',\n",
       "       'ins', 'fea', 'awe', 'pri', 'ten', 'amu', 'sad', 'mov', 'awe',\n",
       "       'tri', 'adm', 'sad', 'pri', 'dou', 'awe', 'gra', 'anx', 'nos',\n",
       "       'rej', 'amu', 'neg_sur', 'env', 'disg', 'sar', 'bor', 'adm', 'adm',\n",
       "       'nos', 'pos_sur', 'adm', 'dist', 'sex', 'amu', 'pos_sur', 'scha',\n",
       "       'dou'], dtype=object)"
      ]
     },
     "execution_count": 150,
     "metadata": {},
     "output_type": "execute_result"
    }
   ],
   "source": [
    "clf.predict(x_test)"
   ]
  },
  {
   "cell_type": "code",
   "execution_count": 151,
   "id": "58240050",
   "metadata": {
    "scrolled": true
   },
   "outputs": [
    {
     "data": {
      "text/plain": [
       "array(['disg', 'ple', 'disa', 'conf', 'ten', 'dist', 'nos', 'cont', 'rel',\n",
       "       'anx', 'neg_sur', 'pea', 'amu', 'tri', 'reg', 'pea', 'emb', 'rel',\n",
       "       'rel', 'anx', 'bor', 'int', 'reg', 'exc', 'sad', 'rej', 'rej',\n",
       "       'mov', 'exc', 'sha', 'gra', 'pea', 'ple', 'disa', 'cont', 'ins',\n",
       "       'sha', 'ple', 'ple', 'pri', 'amu', 'gui', 'sat', 'ple', 'tri',\n",
       "       'exc', 'sha', 'sat', 'mov', 'awe', 'hop', 'reg', 'mov', 'anx',\n",
       "       'amu', 'neg_sur', 'env', 'disg', 'tri', 'bor', 'ele', 'adm', 'sar',\n",
       "       'int', 'int', 'sha', 'sar', 'hap', 'pos_sur', 'scha', 'emb'],\n",
       "      dtype=object)"
      ]
     },
     "execution_count": 151,
     "metadata": {},
     "output_type": "execute_result"
    }
   ],
   "source": [
    "y_test"
   ]
  },
  {
   "cell_type": "code",
   "execution_count": 138,
   "id": "839e6460",
   "metadata": {},
   "outputs": [
    {
     "data": {
      "text/plain": [
       "array(['Unnamed: 0', 'frame', 'face_id', 'timestamp', 'confidence',\n",
       "       'success', 'gaze_0_x', 'gaze_0_y', 'gaze_0_z', 'gaze_1_x',\n",
       "       'gaze_1_y', 'gaze_1_z', 'gaze_angle_x', 'gaze_angle_y',\n",
       "       'eye_lmk_x_0', 'eye_lmk_x_1', 'eye_lmk_x_2', 'eye_lmk_x_3',\n",
       "       'eye_lmk_x_4', 'eye_lmk_x_5', 'eye_lmk_x_6', 'eye_lmk_x_7',\n",
       "       'eye_lmk_x_8', 'eye_lmk_x_9', 'eye_lmk_x_10', 'eye_lmk_x_11',\n",
       "       'eye_lmk_x_12', 'eye_lmk_x_13', 'eye_lmk_x_14', 'eye_lmk_x_15',\n",
       "       'eye_lmk_x_16', 'eye_lmk_x_17', 'eye_lmk_x_18', 'eye_lmk_x_19',\n",
       "       'eye_lmk_x_20', 'eye_lmk_x_21', 'eye_lmk_x_22', 'eye_lmk_x_23',\n",
       "       'eye_lmk_x_24', 'eye_lmk_x_25', 'eye_lmk_x_26', 'eye_lmk_x_27',\n",
       "       'eye_lmk_x_28', 'eye_lmk_x_29', 'eye_lmk_x_30', 'eye_lmk_x_31',\n",
       "       'eye_lmk_x_32', 'eye_lmk_x_33', 'eye_lmk_x_34', 'eye_lmk_x_35',\n",
       "       'eye_lmk_x_36', 'eye_lmk_x_37', 'eye_lmk_x_38', 'eye_lmk_x_39',\n",
       "       'eye_lmk_x_40', 'eye_lmk_x_41', 'eye_lmk_x_42', 'eye_lmk_x_43',\n",
       "       'eye_lmk_x_44', 'eye_lmk_x_45', 'eye_lmk_x_46', 'eye_lmk_x_47',\n",
       "       'eye_lmk_x_48', 'eye_lmk_x_49', 'eye_lmk_x_50', 'eye_lmk_x_51',\n",
       "       'eye_lmk_x_52', 'eye_lmk_x_53', 'eye_lmk_x_54', 'eye_lmk_x_55',\n",
       "       'eye_lmk_y_0', 'eye_lmk_y_1', 'eye_lmk_y_2', 'eye_lmk_y_3',\n",
       "       'eye_lmk_y_4', 'eye_lmk_y_5', 'eye_lmk_y_6', 'eye_lmk_y_7',\n",
       "       'eye_lmk_y_8', 'eye_lmk_y_9', 'eye_lmk_y_10', 'eye_lmk_y_11',\n",
       "       'eye_lmk_y_12', 'eye_lmk_y_13', 'eye_lmk_y_14', 'eye_lmk_y_15',\n",
       "       'eye_lmk_y_16', 'eye_lmk_y_17', 'eye_lmk_y_18', 'eye_lmk_y_19',\n",
       "       'eye_lmk_y_20', 'eye_lmk_y_21', 'eye_lmk_y_22', 'eye_lmk_y_23',\n",
       "       'eye_lmk_y_24', 'eye_lmk_y_25', 'eye_lmk_y_26', 'eye_lmk_y_27',\n",
       "       'eye_lmk_y_28', 'eye_lmk_y_29', 'eye_lmk_y_30', 'eye_lmk_y_31',\n",
       "       'eye_lmk_y_32', 'eye_lmk_y_33', 'eye_lmk_y_34', 'eye_lmk_y_35',\n",
       "       'eye_lmk_y_36', 'eye_lmk_y_37', 'eye_lmk_y_38', 'eye_lmk_y_39',\n",
       "       'eye_lmk_y_40', 'eye_lmk_y_41', 'eye_lmk_y_42', 'eye_lmk_y_43',\n",
       "       'eye_lmk_y_44', 'eye_lmk_y_45', 'eye_lmk_y_46', 'eye_lmk_y_47',\n",
       "       'eye_lmk_y_48', 'eye_lmk_y_49', 'eye_lmk_y_50', 'eye_lmk_y_51',\n",
       "       'eye_lmk_y_52', 'eye_lmk_y_53', 'eye_lmk_y_54', 'eye_lmk_y_55',\n",
       "       'eye_lmk_X_0', 'eye_lmk_X_1', 'eye_lmk_X_2', 'eye_lmk_X_3',\n",
       "       'eye_lmk_X_4', 'eye_lmk_X_5', 'eye_lmk_X_6', 'eye_lmk_X_7',\n",
       "       'eye_lmk_X_8', 'eye_lmk_X_9', 'eye_lmk_X_10', 'eye_lmk_X_11',\n",
       "       'eye_lmk_X_12', 'eye_lmk_X_13', 'eye_lmk_X_14', 'eye_lmk_X_15',\n",
       "       'eye_lmk_X_16', 'eye_lmk_X_17', 'eye_lmk_X_18', 'eye_lmk_X_19',\n",
       "       'eye_lmk_X_20', 'eye_lmk_X_21', 'eye_lmk_X_22', 'eye_lmk_X_23',\n",
       "       'eye_lmk_X_24', 'eye_lmk_X_25', 'eye_lmk_X_26', 'eye_lmk_X_27',\n",
       "       'eye_lmk_X_28', 'eye_lmk_X_29', 'eye_lmk_X_30', 'eye_lmk_X_31',\n",
       "       'eye_lmk_X_32', 'eye_lmk_X_33', 'eye_lmk_X_34', 'eye_lmk_X_35',\n",
       "       'eye_lmk_X_36', 'eye_lmk_X_37', 'eye_lmk_X_38', 'eye_lmk_X_39',\n",
       "       'eye_lmk_X_40', 'eye_lmk_X_41', 'eye_lmk_X_42', 'eye_lmk_X_43',\n",
       "       'eye_lmk_X_44', 'eye_lmk_X_45', 'eye_lmk_X_46', 'eye_lmk_X_47',\n",
       "       'eye_lmk_X_48', 'eye_lmk_X_49', 'eye_lmk_X_50', 'eye_lmk_X_51',\n",
       "       'eye_lmk_X_52', 'eye_lmk_X_53', 'eye_lmk_X_54', 'eye_lmk_X_55',\n",
       "       'eye_lmk_Y_0', 'eye_lmk_Y_1', 'eye_lmk_Y_2', 'eye_lmk_Y_3',\n",
       "       'eye_lmk_Y_4', 'eye_lmk_Y_5', 'eye_lmk_Y_6', 'eye_lmk_Y_7',\n",
       "       'eye_lmk_Y_8', 'eye_lmk_Y_9', 'eye_lmk_Y_10', 'eye_lmk_Y_11',\n",
       "       'eye_lmk_Y_12', 'eye_lmk_Y_13', 'eye_lmk_Y_14', 'eye_lmk_Y_15',\n",
       "       'eye_lmk_Y_16', 'eye_lmk_Y_17', 'eye_lmk_Y_18', 'eye_lmk_Y_19',\n",
       "       'eye_lmk_Y_20', 'eye_lmk_Y_21', 'eye_lmk_Y_22', 'eye_lmk_Y_23',\n",
       "       'eye_lmk_Y_24', 'eye_lmk_Y_25', 'eye_lmk_Y_26', 'eye_lmk_Y_27',\n",
       "       'eye_lmk_Y_28', 'eye_lmk_Y_29', 'eye_lmk_Y_30', 'eye_lmk_Y_31',\n",
       "       'eye_lmk_Y_32', 'eye_lmk_Y_33', 'eye_lmk_Y_34', 'eye_lmk_Y_35',\n",
       "       'eye_lmk_Y_36', 'eye_lmk_Y_37', 'eye_lmk_Y_38', 'eye_lmk_Y_39',\n",
       "       'eye_lmk_Y_40', 'eye_lmk_Y_41', 'eye_lmk_Y_42', 'eye_lmk_Y_43',\n",
       "       'eye_lmk_Y_44', 'eye_lmk_Y_45', 'eye_lmk_Y_46', 'eye_lmk_Y_47',\n",
       "       'eye_lmk_Y_48', 'eye_lmk_Y_49', 'eye_lmk_Y_50', 'eye_lmk_Y_51',\n",
       "       'eye_lmk_Y_52', 'eye_lmk_Y_53', 'eye_lmk_Y_54', 'eye_lmk_Y_55',\n",
       "       'eye_lmk_Z_0', 'eye_lmk_Z_1', 'eye_lmk_Z_2', 'eye_lmk_Z_3',\n",
       "       'eye_lmk_Z_4', 'eye_lmk_Z_5', 'eye_lmk_Z_6', 'eye_lmk_Z_7',\n",
       "       'eye_lmk_Z_8', 'eye_lmk_Z_9', 'eye_lmk_Z_10', 'eye_lmk_Z_11',\n",
       "       'eye_lmk_Z_12', 'eye_lmk_Z_13', 'eye_lmk_Z_14', 'eye_lmk_Z_15',\n",
       "       'eye_lmk_Z_16', 'eye_lmk_Z_17', 'eye_lmk_Z_18', 'eye_lmk_Z_19',\n",
       "       'eye_lmk_Z_20', 'eye_lmk_Z_21', 'eye_lmk_Z_22', 'eye_lmk_Z_23',\n",
       "       'eye_lmk_Z_24', 'eye_lmk_Z_25', 'eye_lmk_Z_26', 'eye_lmk_Z_27',\n",
       "       'eye_lmk_Z_28', 'eye_lmk_Z_29', 'eye_lmk_Z_30', 'eye_lmk_Z_31',\n",
       "       'eye_lmk_Z_32', 'eye_lmk_Z_33', 'eye_lmk_Z_34', 'eye_lmk_Z_35',\n",
       "       'eye_lmk_Z_36', 'eye_lmk_Z_37', 'eye_lmk_Z_38', 'eye_lmk_Z_39',\n",
       "       'eye_lmk_Z_40', 'eye_lmk_Z_41', 'eye_lmk_Z_42', 'eye_lmk_Z_43',\n",
       "       'eye_lmk_Z_44', 'eye_lmk_Z_45', 'eye_lmk_Z_46', 'eye_lmk_Z_47',\n",
       "       'eye_lmk_Z_48', 'eye_lmk_Z_49', 'eye_lmk_Z_50', 'eye_lmk_Z_51',\n",
       "       'eye_lmk_Z_52', 'eye_lmk_Z_53', 'eye_lmk_Z_54', 'eye_lmk_Z_55',\n",
       "       'pose_Tx', 'pose_Ty', 'pose_Tz', 'pose_Rx', 'pose_Ry', 'pose_Rz',\n",
       "       'x_0', 'x_1', 'x_2', 'x_3', 'x_4', 'x_5', 'x_6', 'x_7', 'x_8',\n",
       "       'x_9', 'x_10', 'x_11', 'x_12', 'x_13', 'x_14', 'x_15', 'x_16',\n",
       "       'x_17', 'x_18', 'x_19', 'x_20', 'x_21', 'x_22', 'x_23', 'x_24',\n",
       "       'x_25', 'x_26', 'x_27', 'x_28', 'x_29', 'x_30', 'x_31', 'x_32',\n",
       "       'x_33', 'x_34', 'x_35', 'x_36', 'x_37', 'x_38', 'x_39', 'x_40',\n",
       "       'x_41', 'x_42', 'x_43', 'x_44', 'x_45', 'x_46', 'x_47', 'x_48',\n",
       "       'x_49', 'x_50', 'x_51', 'x_52', 'x_53', 'x_54', 'x_55', 'x_56',\n",
       "       'x_57', 'x_58', 'x_59', 'x_60', 'x_61', 'x_62', 'x_63', 'x_64',\n",
       "       'x_65', 'x_66', 'x_67', 'y_0', 'y_1', 'y_2', 'y_3', 'y_4', 'y_5',\n",
       "       'y_6', 'y_7', 'y_8', 'y_9', 'y_10', 'y_11', 'y_12', 'y_13', 'y_14',\n",
       "       'y_15', 'y_16', 'y_17', 'y_18', 'y_19', 'y_20', 'y_21', 'y_22',\n",
       "       'y_23', 'y_24', 'y_25', 'y_26', 'y_27', 'y_28', 'y_29', 'y_30',\n",
       "       'y_31', 'y_32', 'y_33', 'y_34', 'y_35', 'y_36', 'y_37', 'y_38',\n",
       "       'y_39', 'y_40', 'y_41', 'y_42', 'y_43', 'y_44', 'y_45', 'y_46',\n",
       "       'y_47', 'y_48', 'y_49', 'y_50', 'y_51', 'y_52', 'y_53', 'y_54',\n",
       "       'y_55', 'y_56', 'y_57', 'y_58', 'y_59', 'y_60', 'y_61', 'y_62',\n",
       "       'y_63', 'y_64', 'y_65', 'y_66', 'y_67', 'X_0', 'X_1', 'X_2', 'X_3',\n",
       "       'X_4', 'X_5', 'X_6', 'X_7', 'X_8', 'X_9', 'X_10', 'X_11', 'X_12',\n",
       "       'X_13', 'X_14', 'X_15', 'X_16', 'X_17', 'X_18', 'X_19', 'X_20',\n",
       "       'X_21', 'X_22', 'X_23', 'X_24', 'X_25', 'X_26', 'X_27', 'X_28',\n",
       "       'X_29', 'X_30', 'X_31', 'X_32', 'X_33', 'X_34', 'X_35', 'X_36',\n",
       "       'X_37', 'X_38', 'X_39', 'X_40', 'X_41', 'X_42', 'X_43', 'X_44',\n",
       "       'X_45', 'X_46', 'X_47', 'X_48', 'X_49', 'X_50', 'X_51', 'X_52',\n",
       "       'X_53', 'X_54', 'X_55', 'X_56', 'X_57', 'X_58', 'X_59', 'X_60',\n",
       "       'X_61', 'X_62', 'X_63', 'X_64', 'X_65', 'X_66', 'X_67', 'Y_0',\n",
       "       'Y_1', 'Y_2', 'Y_3', 'Y_4', 'Y_5', 'Y_6', 'Y_7', 'Y_8', 'Y_9',\n",
       "       'Y_10', 'Y_11', 'Y_12', 'Y_13', 'Y_14', 'Y_15', 'Y_16', 'Y_17',\n",
       "       'Y_18', 'Y_19', 'Y_20', 'Y_21', 'Y_22', 'Y_23', 'Y_24', 'Y_25',\n",
       "       'Y_26', 'Y_27', 'Y_28', 'Y_29', 'Y_30', 'Y_31', 'Y_32', 'Y_33',\n",
       "       'Y_34', 'Y_35', 'Y_36', 'Y_37', 'Y_38', 'Y_39', 'Y_40', 'Y_41',\n",
       "       'Y_42', 'Y_43', 'Y_44', 'Y_45', 'Y_46', 'Y_47', 'Y_48', 'Y_49',\n",
       "       'Y_50', 'Y_51', 'Y_52', 'Y_53', 'Y_54', 'Y_55', 'Y_56', 'Y_57',\n",
       "       'Y_58', 'Y_59', 'Y_60', 'Y_61', 'Y_62', 'Y_63', 'Y_64', 'Y_65',\n",
       "       'Y_66', 'Y_67', 'Z_0', 'Z_1', 'Z_2', 'Z_3', 'Z_4', 'Z_5', 'Z_6',\n",
       "       'Z_7', 'Z_8', 'Z_9', 'Z_10', 'Z_11', 'Z_12', 'Z_13', 'Z_14',\n",
       "       'Z_15', 'Z_16', 'Z_17', 'Z_18', 'Z_19', 'Z_20', 'Z_21', 'Z_22',\n",
       "       'Z_23', 'Z_24', 'Z_25', 'Z_26', 'Z_27', 'Z_28', 'Z_29', 'Z_30',\n",
       "       'Z_31', 'Z_32', 'Z_33', 'Z_34', 'Z_35', 'Z_36', 'Z_37', 'Z_38',\n",
       "       'Z_39', 'Z_40', 'Z_41', 'Z_42', 'Z_43', 'Z_44', 'Z_45', 'Z_46',\n",
       "       'Z_47', 'Z_48', 'Z_49', 'Z_50', 'Z_51', 'Z_52', 'Z_53', 'Z_54',\n",
       "       'Z_55', 'Z_56', 'Z_57', 'Z_58', 'Z_59', 'Z_60', 'Z_61', 'Z_62',\n",
       "       'Z_63', 'Z_64', 'Z_65', 'Z_66', 'Z_67', 'p_scale', 'p_rx', 'p_ry',\n",
       "       'p_rz', 'p_tx', 'p_ty', 'p_0', 'p_1', 'p_2', 'p_3', 'p_4', 'p_5',\n",
       "       'p_6', 'p_7', 'p_8', 'p_9', 'p_10', 'p_11', 'p_12', 'p_13', 'p_14',\n",
       "       'p_15', 'p_16', 'p_17', 'p_18', 'p_19', 'p_20', 'p_21', 'p_22',\n",
       "       'p_23', 'p_24', 'p_25', 'p_26', 'p_27', 'p_28', 'p_29', 'p_30',\n",
       "       'p_31', 'p_32', 'p_33', 'AU01_r', 'AU02_r', 'AU04_r', 'AU05_r',\n",
       "       'AU06_r', 'AU07_r', 'AU09_r', 'AU10_r', 'AU12_r', 'AU14_r',\n",
       "       'AU15_r', 'AU17_r', 'AU20_r', 'AU23_r', 'AU25_r', 'AU26_r',\n",
       "       'AU45_r', 'AU01_c', 'AU02_c', 'AU04_c', 'AU05_c', 'AU06_c',\n",
       "       'AU07_c', 'AU09_c', 'AU10_c', 'AU12_c', 'AU14_c', 'AU15_c',\n",
       "       'AU17_c', 'AU20_c', 'AU23_c', 'AU25_c', 'AU26_c', 'AU28_c',\n",
       "       'AU45_c', 'video_id', 'file', 'mix', 'emotion_1', 'vocalization',\n",
       "       'intensity_level', 'emotion_2', 'proportions', 'situation'],\n",
       "      dtype=object)"
      ]
     },
     "execution_count": 138,
     "metadata": {},
     "output_type": "execute_result"
    }
   ],
   "source": [
    "df.columns.values"
   ]
  },
  {
   "cell_type": "code",
   "execution_count": null,
   "id": "69ca1b36",
   "metadata": {},
   "outputs": [],
   "source": []
  },
  {
   "cell_type": "code",
   "execution_count": 139,
   "id": "a0c63209",
   "metadata": {},
   "outputs": [],
   "source": [
    "feature_names = ['AU01_r', 'AU02_r', 'AU04_r', 'AU05_r',\n",
    "       'AU06_r', 'AU07_r', 'AU09_r', 'AU10_r', 'AU12_r', 'AU14_r',\n",
    "       'AU15_r', 'AU17_r', 'AU20_r', 'AU23_r', 'AU25_r', 'AU26_r',\n",
    "       'AU45_r', 'AU01_c', 'AU02_c', 'AU04_c', 'AU05_c', 'AU06_c',\n",
    "       'AU07_c', 'AU09_c', 'AU10_c', 'AU12_c', 'AU14_c', 'AU15_c',\n",
    "       'AU17_c', 'AU20_c', 'AU23_c', 'AU25_c', 'AU26_c', 'AU28_c',\n",
    "       'AU45_c']"
   ]
  },
  {
   "cell_type": "code",
   "execution_count": 140,
   "id": "ff393577",
   "metadata": {},
   "outputs": [
    {
     "data": {
      "image/png": "[encoded data removed]",
      "text/plain": [
       "<Figure size 432x288 with 1 Axes>"
      ]
     },
     "metadata": {
      "needs_background": "light"
     },
     "output_type": "display_data"
    }
   ],
   "source": [
    "def f_importances(coef, names):\n",
    "    imp = coef\n",
    "    imp,names = zip(*sorted(zip(imp,names)))\n",
    "    plt.barh(range(len(names)), imp, align='center')\n",
    "    plt.yticks(range(len(names)), names)\n",
    "    plt.show()\n",
    "\n",
    "f_importances(clf.coef_[0], feature_names)"
   ]
  },
  {
   "cell_type": "code",
   "execution_count": 154,
   "id": "f6f2dc8b",
   "metadata": {},
   "outputs": [
    {
     "data": {
      "text/plain": [
       "(946, 35)"
      ]
     },
     "execution_count": 154,
     "metadata": {},
     "output_type": "execute_result"
    }
   ],
   "source": [
    "clf.coef_.shape"
   ]
  },
  {
   "cell_type": "code",
   "execution_count": null,
   "id": "7dacedad",
   "metadata": {},
   "outputs": [],
   "source": [
    "# sigmoid\n",
    "clf = svm.SVC(kernel = \"sigmoid\")\n",
    "clf.fit(x_train, y_train)\n",
    "clf.score(x_test, y_test)"
   ]
  }
 ],
 "metadata": {
  "kernelspec": {
   "display_name": "Python 3 (ipykernel)",
   "language": "python",
   "name": "python3"
  },
  "language_info": {
   "codemirror_mode": {
    "name": "ipython",
    "version": 3
   },
   "file_extension": ".py",
   "mimetype": "text/x-python",
   "name": "python",
   "nbconvert_exporter": "python",
   "pygments_lexer": "ipython3",
   "version": "3.8.13"
  }
 },
 "nbformat": 4,
 "nbformat_minor": 5
}
