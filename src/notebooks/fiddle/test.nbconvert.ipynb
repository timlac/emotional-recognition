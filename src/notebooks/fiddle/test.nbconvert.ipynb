{
 "cells": [
  {
   "cell_type": "code",
   "execution_count": 1,
   "id": "91e8d1a1-6622-4da1-b5c9-ee1ccea01112",
   "metadata": {
    "execution": {
     "iopub.execute_input": "2022-07-05T13:53:57.079243Z",
     "iopub.status.busy": "2022-07-05T13:53:57.078712Z",
     "iopub.status.idle": "2022-07-05T13:53:57.087889Z",
     "shell.execute_reply": "2022-07-05T13:53:57.087357Z"
    }
   },
   "outputs": [
    {
     "name": "stdout",
     "output_type": "stream",
     "text": [
      "saying hi\n"
     ]
    }
   ],
   "source": [
    "print(\"saying hi\")"
   ]
  },
  {
   "cell_type": "code",
   "execution_count": 2,
   "id": "cc8d41c9-2f7b-485e-bb2b-7610322b6ead",
   "metadata": {
    "execution": {
     "iopub.execute_input": "2022-07-05T13:53:57.089792Z",
     "iopub.status.busy": "2022-07-05T13:53:57.089664Z",
     "iopub.status.idle": "2022-07-05T13:54:27.099697Z",
     "shell.execute_reply": "2022-07-05T13:54:27.097023Z"
    }
   },
   "outputs": [
    {
     "name": "stdout",
     "output_type": "stream",
     "text": [
      "30.001606225967407seconds have gone by\n"
     ]
    }
   ],
   "source": [
    "import time \n",
    "\n",
    "st = time.time()\n",
    "\n",
    "time.sleep(30)\n",
    "\n",
    "et = time.time() - st \n",
    "\n",
    "print(str(et) + \"seconds have gone by\")"
   ]
  },
  {
   "cell_type": "code",
   "execution_count": 3,
   "id": "1bd72647-03b4-400a-80fc-16d5099a3bb7",
   "metadata": {
    "execution": {
     "iopub.execute_input": "2022-07-05T13:54:27.107225Z",
     "iopub.status.busy": "2022-07-05T13:54:27.107016Z",
     "iopub.status.idle": "2022-07-05T13:54:27.110468Z",
     "shell.execute_reply": "2022-07-05T13:54:27.109937Z"
    }
   },
   "outputs": [
    {
     "name": "stdout",
     "output_type": "stream",
     "text": [
      "saying goodbye\n"
     ]
    }
   ],
   "source": [
    "print(\"saying goodbye\")"
   ]
  }
 ],
 "metadata": {
  "kernelspec": {
   "display_name": "Python 3 (ipykernel)",
   "language": "python",
   "name": "python3"
  },
  "language_info": {
   "codemirror_mode": {
    "name": "ipython",
    "version": 3
   },
   "file_extension": ".py",
   "mimetype": "text/x-python",
   "name": "python",
   "nbconvert_exporter": "python",
   "pygments_lexer": "ipython3",
   "version": "3.8.13"
  }
 },
 "nbformat": 4,
 "nbformat_minor": 5
}
