{
 "cells": [
  {
   "cell_type": "code",
   "execution_count": 1,
   "id": "b511ce00",
   "metadata": {},
   "outputs": [],
   "source": [
    "import pandas as pd\n",
    "import numpy as np\n",
    "from sklearn.decomposition import PCA\n",
    "from sklearn.model_selection import train_test_split\n",
    "from sklearn import svm\n"
   ]
  },
  {
   "cell_type": "markdown",
   "id": "9bc306e5",
   "metadata": {},
   "source": [
    "Read the concatenated CSV"
   ]
  },
  {
   "cell_type": "code",
   "execution_count": 2,
   "id": "6cb4ad7a",
   "metadata": {},
   "outputs": [
    {
     "name": "stderr",
     "output_type": "stream",
     "text": [
      "/tmp/ipykernel_20766/2773897866.py:2: DtypeWarning: Columns (721) have mixed types. Specify dtype option on import or set low_memory=False.\n",
      "  df = pd.read_csv(path)\n"
     ]
    }
   ],
   "source": [
    "path = \"../preprocessing/concat.csv\"\n",
    "df = pd.read_csv(path)"
   ]
  },
  {
   "cell_type": "code",
   "execution_count": 3,
   "id": "39f9349b",
   "metadata": {},
   "outputs": [
    {
     "data": {
      "text/html": [
       "<div>\n",
       "<style scoped>\n",
       "    .dataframe tbody tr th:only-of-type {\n",
       "        vertical-align: middle;\n",
       "    }\n",
       "\n",
       "    .dataframe tbody tr th {\n",
       "        vertical-align: top;\n",
       "    }\n",
       "\n",
       "    .dataframe thead th {\n",
       "        text-align: right;\n",
       "    }\n",
       "</style>\n",
       "<table border=\"1\" class=\"dataframe\">\n",
       "  <thead>\n",
       "    <tr style=\"text-align: right;\">\n",
       "      <th></th>\n",
       "      <th>Unnamed: 0</th>\n",
       "      <th>frame</th>\n",
       "      <th>face_id</th>\n",
       "      <th>timestamp</th>\n",
       "      <th>confidence</th>\n",
       "      <th>success</th>\n",
       "      <th>gaze_0_x</th>\n",
       "      <th>gaze_0_y</th>\n",
       "      <th>gaze_0_z</th>\n",
       "      <th>gaze_1_x</th>\n",
       "      <th>...</th>\n",
       "      <th>AU45_c</th>\n",
       "      <th>video_id</th>\n",
       "      <th>file</th>\n",
       "      <th>mix</th>\n",
       "      <th>emotion_1</th>\n",
       "      <th>vocalization</th>\n",
       "      <th>intensity_level</th>\n",
       "      <th>emotion_2</th>\n",
       "      <th>proportions</th>\n",
       "      <th>situation</th>\n",
       "    </tr>\n",
       "  </thead>\n",
       "  <tbody>\n",
       "    <tr>\n",
       "      <th>0</th>\n",
       "      <td>0</td>\n",
       "      <td>1</td>\n",
       "      <td>0</td>\n",
       "      <td>0.00</td>\n",
       "      <td>0.98</td>\n",
       "      <td>1</td>\n",
       "      <td>-0.062394</td>\n",
       "      <td>0.301228</td>\n",
       "      <td>-0.951509</td>\n",
       "      <td>-0.192912</td>\n",
       "      <td>...</td>\n",
       "      <td>1.0</td>\n",
       "      <td>A220</td>\n",
       "      <td>A220_reg_p_2.csv</td>\n",
       "      <td>False</td>\n",
       "      <td>reg</td>\n",
       "      <td>p</td>\n",
       "      <td>2</td>\n",
       "      <td>NaN</td>\n",
       "      <td>NaN</td>\n",
       "      <td>NaN</td>\n",
       "    </tr>\n",
       "    <tr>\n",
       "      <th>1</th>\n",
       "      <td>1</td>\n",
       "      <td>2</td>\n",
       "      <td>0</td>\n",
       "      <td>0.02</td>\n",
       "      <td>0.98</td>\n",
       "      <td>1</td>\n",
       "      <td>-0.052638</td>\n",
       "      <td>0.300214</td>\n",
       "      <td>-0.952418</td>\n",
       "      <td>-0.205766</td>\n",
       "      <td>...</td>\n",
       "      <td>0.0</td>\n",
       "      <td>A220</td>\n",
       "      <td>A220_reg_p_2.csv</td>\n",
       "      <td>False</td>\n",
       "      <td>reg</td>\n",
       "      <td>p</td>\n",
       "      <td>2</td>\n",
       "      <td>NaN</td>\n",
       "      <td>NaN</td>\n",
       "      <td>NaN</td>\n",
       "    </tr>\n",
       "    <tr>\n",
       "      <th>2</th>\n",
       "      <td>2</td>\n",
       "      <td>3</td>\n",
       "      <td>0</td>\n",
       "      <td>0.04</td>\n",
       "      <td>0.98</td>\n",
       "      <td>1</td>\n",
       "      <td>-0.050868</td>\n",
       "      <td>0.293366</td>\n",
       "      <td>-0.954646</td>\n",
       "      <td>-0.208241</td>\n",
       "      <td>...</td>\n",
       "      <td>0.0</td>\n",
       "      <td>A220</td>\n",
       "      <td>A220_reg_p_2.csv</td>\n",
       "      <td>False</td>\n",
       "      <td>reg</td>\n",
       "      <td>p</td>\n",
       "      <td>2</td>\n",
       "      <td>NaN</td>\n",
       "      <td>NaN</td>\n",
       "      <td>NaN</td>\n",
       "    </tr>\n",
       "    <tr>\n",
       "      <th>3</th>\n",
       "      <td>3</td>\n",
       "      <td>4</td>\n",
       "      <td>0</td>\n",
       "      <td>0.06</td>\n",
       "      <td>0.98</td>\n",
       "      <td>1</td>\n",
       "      <td>-0.053854</td>\n",
       "      <td>0.298332</td>\n",
       "      <td>-0.952942</td>\n",
       "      <td>-0.204404</td>\n",
       "      <td>...</td>\n",
       "      <td>0.0</td>\n",
       "      <td>A220</td>\n",
       "      <td>A220_reg_p_2.csv</td>\n",
       "      <td>False</td>\n",
       "      <td>reg</td>\n",
       "      <td>p</td>\n",
       "      <td>2</td>\n",
       "      <td>NaN</td>\n",
       "      <td>NaN</td>\n",
       "      <td>NaN</td>\n",
       "    </tr>\n",
       "    <tr>\n",
       "      <th>4</th>\n",
       "      <td>4</td>\n",
       "      <td>5</td>\n",
       "      <td>0</td>\n",
       "      <td>0.08</td>\n",
       "      <td>0.98</td>\n",
       "      <td>1</td>\n",
       "      <td>-0.049128</td>\n",
       "      <td>0.298474</td>\n",
       "      <td>-0.953153</td>\n",
       "      <td>-0.201120</td>\n",
       "      <td>...</td>\n",
       "      <td>0.0</td>\n",
       "      <td>A220</td>\n",
       "      <td>A220_reg_p_2.csv</td>\n",
       "      <td>False</td>\n",
       "      <td>reg</td>\n",
       "      <td>p</td>\n",
       "      <td>2</td>\n",
       "      <td>NaN</td>\n",
       "      <td>NaN</td>\n",
       "      <td>NaN</td>\n",
       "    </tr>\n",
       "    <tr>\n",
       "      <th>...</th>\n",
       "      <td>...</td>\n",
       "      <td>...</td>\n",
       "      <td>...</td>\n",
       "      <td>...</td>\n",
       "      <td>...</td>\n",
       "      <td>...</td>\n",
       "      <td>...</td>\n",
       "      <td>...</td>\n",
       "      <td>...</td>\n",
       "      <td>...</td>\n",
       "      <td>...</td>\n",
       "      <td>...</td>\n",
       "      <td>...</td>\n",
       "      <td>...</td>\n",
       "      <td>...</td>\n",
       "      <td>...</td>\n",
       "      <td>...</td>\n",
       "      <td>...</td>\n",
       "      <td>...</td>\n",
       "      <td>...</td>\n",
       "      <td>...</td>\n",
       "    </tr>\n",
       "    <tr>\n",
       "      <th>110583</th>\n",
       "      <td>305</td>\n",
       "      <td>306</td>\n",
       "      <td>0</td>\n",
       "      <td>6.10</td>\n",
       "      <td>0.98</td>\n",
       "      <td>1</td>\n",
       "      <td>0.085220</td>\n",
       "      <td>0.297743</td>\n",
       "      <td>-0.950835</td>\n",
       "      <td>-0.092437</td>\n",
       "      <td>...</td>\n",
       "      <td>0.0</td>\n",
       "      <td>A220</td>\n",
       "      <td>A220_anx_v_3.csv</td>\n",
       "      <td>False</td>\n",
       "      <td>anx</td>\n",
       "      <td>v</td>\n",
       "      <td>3</td>\n",
       "      <td>NaN</td>\n",
       "      <td>NaN</td>\n",
       "      <td>NaN</td>\n",
       "    </tr>\n",
       "    <tr>\n",
       "      <th>110584</th>\n",
       "      <td>306</td>\n",
       "      <td>307</td>\n",
       "      <td>0</td>\n",
       "      <td>6.12</td>\n",
       "      <td>0.98</td>\n",
       "      <td>1</td>\n",
       "      <td>0.081289</td>\n",
       "      <td>0.296204</td>\n",
       "      <td>-0.951659</td>\n",
       "      <td>-0.078804</td>\n",
       "      <td>...</td>\n",
       "      <td>0.0</td>\n",
       "      <td>A220</td>\n",
       "      <td>A220_anx_v_3.csv</td>\n",
       "      <td>False</td>\n",
       "      <td>anx</td>\n",
       "      <td>v</td>\n",
       "      <td>3</td>\n",
       "      <td>NaN</td>\n",
       "      <td>NaN</td>\n",
       "      <td>NaN</td>\n",
       "    </tr>\n",
       "    <tr>\n",
       "      <th>110585</th>\n",
       "      <td>307</td>\n",
       "      <td>308</td>\n",
       "      <td>0</td>\n",
       "      <td>6.14</td>\n",
       "      <td>0.98</td>\n",
       "      <td>1</td>\n",
       "      <td>0.079877</td>\n",
       "      <td>0.291925</td>\n",
       "      <td>-0.953100</td>\n",
       "      <td>-0.080352</td>\n",
       "      <td>...</td>\n",
       "      <td>0.0</td>\n",
       "      <td>A220</td>\n",
       "      <td>A220_anx_v_3.csv</td>\n",
       "      <td>False</td>\n",
       "      <td>anx</td>\n",
       "      <td>v</td>\n",
       "      <td>3</td>\n",
       "      <td>NaN</td>\n",
       "      <td>NaN</td>\n",
       "      <td>NaN</td>\n",
       "    </tr>\n",
       "    <tr>\n",
       "      <th>110586</th>\n",
       "      <td>308</td>\n",
       "      <td>309</td>\n",
       "      <td>0</td>\n",
       "      <td>6.16</td>\n",
       "      <td>0.93</td>\n",
       "      <td>1</td>\n",
       "      <td>0.083870</td>\n",
       "      <td>0.294762</td>\n",
       "      <td>-0.951883</td>\n",
       "      <td>-0.083980</td>\n",
       "      <td>...</td>\n",
       "      <td>0.0</td>\n",
       "      <td>A220</td>\n",
       "      <td>A220_anx_v_3.csv</td>\n",
       "      <td>False</td>\n",
       "      <td>anx</td>\n",
       "      <td>v</td>\n",
       "      <td>3</td>\n",
       "      <td>NaN</td>\n",
       "      <td>NaN</td>\n",
       "      <td>NaN</td>\n",
       "    </tr>\n",
       "    <tr>\n",
       "      <th>110587</th>\n",
       "      <td>309</td>\n",
       "      <td>310</td>\n",
       "      <td>0</td>\n",
       "      <td>6.18</td>\n",
       "      <td>0.98</td>\n",
       "      <td>1</td>\n",
       "      <td>0.087696</td>\n",
       "      <td>0.290760</td>\n",
       "      <td>-0.952769</td>\n",
       "      <td>-0.090642</td>\n",
       "      <td>...</td>\n",
       "      <td>0.0</td>\n",
       "      <td>A220</td>\n",
       "      <td>A220_anx_v_3.csv</td>\n",
       "      <td>False</td>\n",
       "      <td>anx</td>\n",
       "      <td>v</td>\n",
       "      <td>3</td>\n",
       "      <td>NaN</td>\n",
       "      <td>NaN</td>\n",
       "      <td>NaN</td>\n",
       "    </tr>\n",
       "  </tbody>\n",
       "</table>\n",
       "<p>110588 rows × 724 columns</p>\n",
       "</div>"
      ],
      "text/plain": [
       "        Unnamed: 0  frame  face_id  timestamp  confidence  success  gaze_0_x  \\\n",
       "0                0      1        0       0.00        0.98        1 -0.062394   \n",
       "1                1      2        0       0.02        0.98        1 -0.052638   \n",
       "2                2      3        0       0.04        0.98        1 -0.050868   \n",
       "3                3      4        0       0.06        0.98        1 -0.053854   \n",
       "4                4      5        0       0.08        0.98        1 -0.049128   \n",
       "...            ...    ...      ...        ...         ...      ...       ...   \n",
       "110583         305    306        0       6.10        0.98        1  0.085220   \n",
       "110584         306    307        0       6.12        0.98        1  0.081289   \n",
       "110585         307    308        0       6.14        0.98        1  0.079877   \n",
       "110586         308    309        0       6.16        0.93        1  0.083870   \n",
       "110587         309    310        0       6.18        0.98        1  0.087696   \n",
       "\n",
       "        gaze_0_y  gaze_0_z  gaze_1_x  ...  AU45_c  video_id              file  \\\n",
       "0       0.301228 -0.951509 -0.192912  ...     1.0      A220  A220_reg_p_2.csv   \n",
       "1       0.300214 -0.952418 -0.205766  ...     0.0      A220  A220_reg_p_2.csv   \n",
       "2       0.293366 -0.954646 -0.208241  ...     0.0      A220  A220_reg_p_2.csv   \n",
       "3       0.298332 -0.952942 -0.204404  ...     0.0      A220  A220_reg_p_2.csv   \n",
       "4       0.298474 -0.953153 -0.201120  ...     0.0      A220  A220_reg_p_2.csv   \n",
       "...          ...       ...       ...  ...     ...       ...               ...   \n",
       "110583  0.297743 -0.950835 -0.092437  ...     0.0      A220  A220_anx_v_3.csv   \n",
       "110584  0.296204 -0.951659 -0.078804  ...     0.0      A220  A220_anx_v_3.csv   \n",
       "110585  0.291925 -0.953100 -0.080352  ...     0.0      A220  A220_anx_v_3.csv   \n",
       "110586  0.294762 -0.951883 -0.083980  ...     0.0      A220  A220_anx_v_3.csv   \n",
       "110587  0.290760 -0.952769 -0.090642  ...     0.0      A220  A220_anx_v_3.csv   \n",
       "\n",
       "          mix  emotion_1  vocalization  intensity_level  emotion_2  \\\n",
       "0       False        reg             p                2        NaN   \n",
       "1       False        reg             p                2        NaN   \n",
       "2       False        reg             p                2        NaN   \n",
       "3       False        reg             p                2        NaN   \n",
       "4       False        reg             p                2        NaN   \n",
       "...       ...        ...           ...              ...        ...   \n",
       "110583  False        anx             v                3        NaN   \n",
       "110584  False        anx             v                3        NaN   \n",
       "110585  False        anx             v                3        NaN   \n",
       "110586  False        anx             v                3        NaN   \n",
       "110587  False        anx             v                3        NaN   \n",
       "\n",
       "        proportions  situation  \n",
       "0               NaN        NaN  \n",
       "1               NaN        NaN  \n",
       "2               NaN        NaN  \n",
       "3               NaN        NaN  \n",
       "4               NaN        NaN  \n",
       "...             ...        ...  \n",
       "110583          NaN        NaN  \n",
       "110584          NaN        NaN  \n",
       "110585          NaN        NaN  \n",
       "110586          NaN        NaN  \n",
       "110587          NaN        NaN  \n",
       "\n",
       "[110588 rows x 724 columns]"
      ]
     },
     "execution_count": 3,
     "metadata": {},
     "output_type": "execute_result"
    }
   ],
   "source": [
    "df"
   ]
  },
  {
   "cell_type": "markdown",
   "id": "beee1408",
   "metadata": {},
   "source": [
    "Drop mized emotions, get rid of all columns except action units, emotion and filename"
   ]
  },
  {
   "cell_type": "code",
   "execution_count": 4,
   "id": "362b0b99",
   "metadata": {},
   "outputs": [],
   "source": [
    "df_tmp = df[df['mix'] == False]\n",
    "df_tmp = df_tmp.loc[:, df_tmp.columns.str.startswith(('AU', \"gaze\", \"pose\", \"file\"))]"
   ]
  },
  {
   "cell_type": "markdown",
   "id": "6da39320",
   "metadata": {},
   "source": [
    "Group by filename, calculate mean value"
   ]
  },
  {
   "cell_type": "code",
   "execution_count": 5,
   "id": "900dcd6c",
   "metadata": {},
   "outputs": [],
   "source": [
    "df_tmp = df_tmp.groupby('file').mean()"
   ]
  },
  {
   "cell_type": "markdown",
   "id": "e5388fb4",
   "metadata": {},
   "source": [
    "Create metadata dataframe"
   ]
  },
  {
   "cell_type": "code",
   "execution_count": 6,
   "id": "61d3c3c2",
   "metadata": {},
   "outputs": [],
   "source": [
    "metadata_df = df[['file','emotion_1']].drop_duplicates()"
   ]
  },
  {
   "cell_type": "markdown",
   "id": "6962d832",
   "metadata": {},
   "source": [
    "Merge metadata (emotion) with action units means and filename"
   ]
  },
  {
   "cell_type": "code",
   "execution_count": 7,
   "id": "142e41a4",
   "metadata": {},
   "outputs": [],
   "source": [
    "df_tmp = pd.merge(df_tmp, metadata_df, on='file')"
   ]
  },
  {
   "cell_type": "code",
   "execution_count": 8,
   "id": "dbd13088",
   "metadata": {},
   "outputs": [
    {
     "data": {
      "text/html": [
       "<div>\n",
       "<style scoped>\n",
       "    .dataframe tbody tr th:only-of-type {\n",
       "        vertical-align: middle;\n",
       "    }\n",
       "\n",
       "    .dataframe tbody tr th {\n",
       "        vertical-align: top;\n",
       "    }\n",
       "\n",
       "    .dataframe thead th {\n",
       "        text-align: right;\n",
       "    }\n",
       "</style>\n",
       "<table border=\"1\" class=\"dataframe\">\n",
       "  <thead>\n",
       "    <tr style=\"text-align: right;\">\n",
       "      <th></th>\n",
       "      <th>file</th>\n",
       "      <th>gaze_0_x</th>\n",
       "      <th>gaze_0_y</th>\n",
       "      <th>gaze_0_z</th>\n",
       "      <th>gaze_1_x</th>\n",
       "      <th>gaze_1_y</th>\n",
       "      <th>gaze_1_z</th>\n",
       "      <th>gaze_angle_x</th>\n",
       "      <th>gaze_angle_y</th>\n",
       "      <th>pose_Tx</th>\n",
       "      <th>...</th>\n",
       "      <th>AU14_c</th>\n",
       "      <th>AU15_c</th>\n",
       "      <th>AU17_c</th>\n",
       "      <th>AU20_c</th>\n",
       "      <th>AU23_c</th>\n",
       "      <th>AU25_c</th>\n",
       "      <th>AU26_c</th>\n",
       "      <th>AU28_c</th>\n",
       "      <th>AU45_c</th>\n",
       "      <th>emotion_1</th>\n",
       "    </tr>\n",
       "  </thead>\n",
       "  <tbody>\n",
       "    <tr>\n",
       "      <th>0</th>\n",
       "      <td>A220_adm_p_1.csv</td>\n",
       "      <td>0.071776</td>\n",
       "      <td>0.313607</td>\n",
       "      <td>-0.942788</td>\n",
       "      <td>-0.159825</td>\n",
       "      <td>0.321515</td>\n",
       "      <td>-0.928751</td>\n",
       "      <td>-0.046478</td>\n",
       "      <td>0.327467</td>\n",
       "      <td>12.504396</td>\n",
       "      <td>...</td>\n",
       "      <td>0.956044</td>\n",
       "      <td>0.000000</td>\n",
       "      <td>0.307692</td>\n",
       "      <td>0.192308</td>\n",
       "      <td>0.016484</td>\n",
       "      <td>0.219780</td>\n",
       "      <td>0.093407</td>\n",
       "      <td>0.000000</td>\n",
       "      <td>0.247253</td>\n",
       "      <td>adm</td>\n",
       "    </tr>\n",
       "    <tr>\n",
       "      <th>1</th>\n",
       "      <td>A220_adm_p_2.csv</td>\n",
       "      <td>0.040902</td>\n",
       "      <td>0.318619</td>\n",
       "      <td>-0.944087</td>\n",
       "      <td>-0.202204</td>\n",
       "      <td>0.334531</td>\n",
       "      <td>-0.915849</td>\n",
       "      <td>-0.086722</td>\n",
       "      <td>0.337805</td>\n",
       "      <td>34.313278</td>\n",
       "      <td>...</td>\n",
       "      <td>0.970954</td>\n",
       "      <td>0.124481</td>\n",
       "      <td>0.307054</td>\n",
       "      <td>0.182573</td>\n",
       "      <td>0.000000</td>\n",
       "      <td>0.307054</td>\n",
       "      <td>0.024896</td>\n",
       "      <td>0.000000</td>\n",
       "      <td>0.219917</td>\n",
       "      <td>adm</td>\n",
       "    </tr>\n",
       "    <tr>\n",
       "      <th>2</th>\n",
       "      <td>A220_adm_p_3.csv</td>\n",
       "      <td>0.027176</td>\n",
       "      <td>0.333384</td>\n",
       "      <td>-0.939375</td>\n",
       "      <td>-0.186133</td>\n",
       "      <td>0.333285</td>\n",
       "      <td>-0.920742</td>\n",
       "      <td>-0.084796</td>\n",
       "      <td>0.344277</td>\n",
       "      <td>42.506383</td>\n",
       "      <td>...</td>\n",
       "      <td>0.982979</td>\n",
       "      <td>0.038298</td>\n",
       "      <td>0.297872</td>\n",
       "      <td>0.123404</td>\n",
       "      <td>0.000000</td>\n",
       "      <td>0.110638</td>\n",
       "      <td>0.200000</td>\n",
       "      <td>0.000000</td>\n",
       "      <td>0.289362</td>\n",
       "      <td>adm</td>\n",
       "    </tr>\n",
       "    <tr>\n",
       "      <th>3</th>\n",
       "      <td>A220_adm_p_4.csv</td>\n",
       "      <td>0.046896</td>\n",
       "      <td>0.284979</td>\n",
       "      <td>-0.955106</td>\n",
       "      <td>-0.181577</td>\n",
       "      <td>0.271767</td>\n",
       "      <td>-0.942284</td>\n",
       "      <td>-0.070551</td>\n",
       "      <td>0.285456</td>\n",
       "      <td>35.406084</td>\n",
       "      <td>...</td>\n",
       "      <td>0.984791</td>\n",
       "      <td>0.026616</td>\n",
       "      <td>0.266160</td>\n",
       "      <td>0.000000</td>\n",
       "      <td>0.000000</td>\n",
       "      <td>0.015209</td>\n",
       "      <td>0.019011</td>\n",
       "      <td>0.000000</td>\n",
       "      <td>0.209125</td>\n",
       "      <td>adm</td>\n",
       "    </tr>\n",
       "    <tr>\n",
       "      <th>4</th>\n",
       "      <td>A220_adm_v_1.csv</td>\n",
       "      <td>0.086057</td>\n",
       "      <td>0.290664</td>\n",
       "      <td>-0.950133</td>\n",
       "      <td>-0.106759</td>\n",
       "      <td>0.318649</td>\n",
       "      <td>-0.937489</td>\n",
       "      <td>-0.010834</td>\n",
       "      <td>0.312488</td>\n",
       "      <td>0.773006</td>\n",
       "      <td>...</td>\n",
       "      <td>1.000000</td>\n",
       "      <td>0.000000</td>\n",
       "      <td>0.153374</td>\n",
       "      <td>0.027607</td>\n",
       "      <td>0.000000</td>\n",
       "      <td>0.052147</td>\n",
       "      <td>0.248466</td>\n",
       "      <td>0.000000</td>\n",
       "      <td>0.226994</td>\n",
       "      <td>adm</td>\n",
       "    </tr>\n",
       "    <tr>\n",
       "      <th>...</th>\n",
       "      <td>...</td>\n",
       "      <td>...</td>\n",
       "      <td>...</td>\n",
       "      <td>...</td>\n",
       "      <td>...</td>\n",
       "      <td>...</td>\n",
       "      <td>...</td>\n",
       "      <td>...</td>\n",
       "      <td>...</td>\n",
       "      <td>...</td>\n",
       "      <td>...</td>\n",
       "      <td>...</td>\n",
       "      <td>...</td>\n",
       "      <td>...</td>\n",
       "      <td>...</td>\n",
       "      <td>...</td>\n",
       "      <td>...</td>\n",
       "      <td>...</td>\n",
       "      <td>...</td>\n",
       "      <td>...</td>\n",
       "      <td>...</td>\n",
       "    </tr>\n",
       "    <tr>\n",
       "      <th>347</th>\n",
       "      <td>A220_tri_p_4.csv</td>\n",
       "      <td>0.035306</td>\n",
       "      <td>0.304337</td>\n",
       "      <td>-0.949603</td>\n",
       "      <td>-0.130634</td>\n",
       "      <td>0.317290</td>\n",
       "      <td>-0.936027</td>\n",
       "      <td>-0.050493</td>\n",
       "      <td>0.318514</td>\n",
       "      <td>29.347163</td>\n",
       "      <td>...</td>\n",
       "      <td>0.726950</td>\n",
       "      <td>0.535461</td>\n",
       "      <td>0.294326</td>\n",
       "      <td>0.127660</td>\n",
       "      <td>0.248227</td>\n",
       "      <td>0.166667</td>\n",
       "      <td>0.280142</td>\n",
       "      <td>0.031915</td>\n",
       "      <td>0.209220</td>\n",
       "      <td>tri</td>\n",
       "    </tr>\n",
       "    <tr>\n",
       "      <th>348</th>\n",
       "      <td>A220_tri_v_1.csv</td>\n",
       "      <td>0.004303</td>\n",
       "      <td>0.349264</td>\n",
       "      <td>-0.936222</td>\n",
       "      <td>-0.141737</td>\n",
       "      <td>0.344295</td>\n",
       "      <td>-0.927693</td>\n",
       "      <td>-0.073560</td>\n",
       "      <td>0.356190</td>\n",
       "      <td>25.533621</td>\n",
       "      <td>...</td>\n",
       "      <td>1.000000</td>\n",
       "      <td>0.025862</td>\n",
       "      <td>0.396552</td>\n",
       "      <td>0.000000</td>\n",
       "      <td>0.068966</td>\n",
       "      <td>0.422414</td>\n",
       "      <td>0.353448</td>\n",
       "      <td>0.000000</td>\n",
       "      <td>0.025862</td>\n",
       "      <td>tri</td>\n",
       "    </tr>\n",
       "    <tr>\n",
       "      <th>349</th>\n",
       "      <td>A220_tri_v_2.csv</td>\n",
       "      <td>-0.009040</td>\n",
       "      <td>0.363339</td>\n",
       "      <td>-0.930700</td>\n",
       "      <td>-0.200038</td>\n",
       "      <td>0.342350</td>\n",
       "      <td>-0.915456</td>\n",
       "      <td>-0.112857</td>\n",
       "      <td>0.365205</td>\n",
       "      <td>40.793168</td>\n",
       "      <td>...</td>\n",
       "      <td>1.000000</td>\n",
       "      <td>0.136646</td>\n",
       "      <td>0.080745</td>\n",
       "      <td>0.136646</td>\n",
       "      <td>0.000000</td>\n",
       "      <td>0.155280</td>\n",
       "      <td>0.161491</td>\n",
       "      <td>0.000000</td>\n",
       "      <td>0.149068</td>\n",
       "      <td>tri</td>\n",
       "    </tr>\n",
       "    <tr>\n",
       "      <th>350</th>\n",
       "      <td>A220_tri_v_3.csv</td>\n",
       "      <td>0.035275</td>\n",
       "      <td>0.367004</td>\n",
       "      <td>-0.927336</td>\n",
       "      <td>-0.142579</td>\n",
       "      <td>0.347621</td>\n",
       "      <td>-0.924963</td>\n",
       "      <td>-0.057953</td>\n",
       "      <td>0.368221</td>\n",
       "      <td>40.119463</td>\n",
       "      <td>...</td>\n",
       "      <td>1.000000</td>\n",
       "      <td>0.463087</td>\n",
       "      <td>0.295302</td>\n",
       "      <td>0.281879</td>\n",
       "      <td>0.395973</td>\n",
       "      <td>0.234899</td>\n",
       "      <td>0.228188</td>\n",
       "      <td>0.000000</td>\n",
       "      <td>0.241611</td>\n",
       "      <td>tri</td>\n",
       "    </tr>\n",
       "    <tr>\n",
       "      <th>351</th>\n",
       "      <td>A220_tri_v_4.csv</td>\n",
       "      <td>0.034499</td>\n",
       "      <td>0.270934</td>\n",
       "      <td>-0.954251</td>\n",
       "      <td>-0.105465</td>\n",
       "      <td>0.278284</td>\n",
       "      <td>-0.946262</td>\n",
       "      <td>-0.036849</td>\n",
       "      <td>0.281469</td>\n",
       "      <td>9.038264</td>\n",
       "      <td>...</td>\n",
       "      <td>1.000000</td>\n",
       "      <td>0.655949</td>\n",
       "      <td>0.282958</td>\n",
       "      <td>0.209003</td>\n",
       "      <td>0.581994</td>\n",
       "      <td>0.427653</td>\n",
       "      <td>0.372990</td>\n",
       "      <td>0.000000</td>\n",
       "      <td>0.225080</td>\n",
       "      <td>tri</td>\n",
       "    </tr>\n",
       "  </tbody>\n",
       "</table>\n",
       "<p>352 rows × 51 columns</p>\n",
       "</div>"
      ],
      "text/plain": [
       "                 file  gaze_0_x  gaze_0_y  gaze_0_z  gaze_1_x  gaze_1_y  \\\n",
       "0    A220_adm_p_1.csv  0.071776  0.313607 -0.942788 -0.159825  0.321515   \n",
       "1    A220_adm_p_2.csv  0.040902  0.318619 -0.944087 -0.202204  0.334531   \n",
       "2    A220_adm_p_3.csv  0.027176  0.333384 -0.939375 -0.186133  0.333285   \n",
       "3    A220_adm_p_4.csv  0.046896  0.284979 -0.955106 -0.181577  0.271767   \n",
       "4    A220_adm_v_1.csv  0.086057  0.290664 -0.950133 -0.106759  0.318649   \n",
       "..                ...       ...       ...       ...       ...       ...   \n",
       "347  A220_tri_p_4.csv  0.035306  0.304337 -0.949603 -0.130634  0.317290   \n",
       "348  A220_tri_v_1.csv  0.004303  0.349264 -0.936222 -0.141737  0.344295   \n",
       "349  A220_tri_v_2.csv -0.009040  0.363339 -0.930700 -0.200038  0.342350   \n",
       "350  A220_tri_v_3.csv  0.035275  0.367004 -0.927336 -0.142579  0.347621   \n",
       "351  A220_tri_v_4.csv  0.034499  0.270934 -0.954251 -0.105465  0.278284   \n",
       "\n",
       "     gaze_1_z  gaze_angle_x  gaze_angle_y    pose_Tx  ...    AU14_c    AU15_c  \\\n",
       "0   -0.928751     -0.046478      0.327467  12.504396  ...  0.956044  0.000000   \n",
       "1   -0.915849     -0.086722      0.337805  34.313278  ...  0.970954  0.124481   \n",
       "2   -0.920742     -0.084796      0.344277  42.506383  ...  0.982979  0.038298   \n",
       "3   -0.942284     -0.070551      0.285456  35.406084  ...  0.984791  0.026616   \n",
       "4   -0.937489     -0.010834      0.312488   0.773006  ...  1.000000  0.000000   \n",
       "..        ...           ...           ...        ...  ...       ...       ...   \n",
       "347 -0.936027     -0.050493      0.318514  29.347163  ...  0.726950  0.535461   \n",
       "348 -0.927693     -0.073560      0.356190  25.533621  ...  1.000000  0.025862   \n",
       "349 -0.915456     -0.112857      0.365205  40.793168  ...  1.000000  0.136646   \n",
       "350 -0.924963     -0.057953      0.368221  40.119463  ...  1.000000  0.463087   \n",
       "351 -0.946262     -0.036849      0.281469   9.038264  ...  1.000000  0.655949   \n",
       "\n",
       "       AU17_c    AU20_c    AU23_c    AU25_c    AU26_c    AU28_c    AU45_c  \\\n",
       "0    0.307692  0.192308  0.016484  0.219780  0.093407  0.000000  0.247253   \n",
       "1    0.307054  0.182573  0.000000  0.307054  0.024896  0.000000  0.219917   \n",
       "2    0.297872  0.123404  0.000000  0.110638  0.200000  0.000000  0.289362   \n",
       "3    0.266160  0.000000  0.000000  0.015209  0.019011  0.000000  0.209125   \n",
       "4    0.153374  0.027607  0.000000  0.052147  0.248466  0.000000  0.226994   \n",
       "..        ...       ...       ...       ...       ...       ...       ...   \n",
       "347  0.294326  0.127660  0.248227  0.166667  0.280142  0.031915  0.209220   \n",
       "348  0.396552  0.000000  0.068966  0.422414  0.353448  0.000000  0.025862   \n",
       "349  0.080745  0.136646  0.000000  0.155280  0.161491  0.000000  0.149068   \n",
       "350  0.295302  0.281879  0.395973  0.234899  0.228188  0.000000  0.241611   \n",
       "351  0.282958  0.209003  0.581994  0.427653  0.372990  0.000000  0.225080   \n",
       "\n",
       "     emotion_1  \n",
       "0          adm  \n",
       "1          adm  \n",
       "2          adm  \n",
       "3          adm  \n",
       "4          adm  \n",
       "..         ...  \n",
       "347        tri  \n",
       "348        tri  \n",
       "349        tri  \n",
       "350        tri  \n",
       "351        tri  \n",
       "\n",
       "[352 rows x 51 columns]"
      ]
     },
     "execution_count": 8,
     "metadata": {},
     "output_type": "execute_result"
    }
   ],
   "source": [
    "df_tmp"
   ]
  },
  {
   "cell_type": "markdown",
   "id": "8df62b3f",
   "metadata": {},
   "source": [
    "Convert everything to numpy"
   ]
  },
  {
   "cell_type": "code",
   "execution_count": 9,
   "id": "756769e0",
   "metadata": {},
   "outputs": [
    {
     "data": {
      "text/plain": [
       "array([[ 0.07177563,  0.31360676, -0.94278772, ...,  0.09340659,\n",
       "         0.        ,  0.24725275],\n",
       "       [ 0.04090178,  0.31861908, -0.94408726, ...,  0.02489627,\n",
       "         0.        ,  0.21991701],\n",
       "       [ 0.0271765 ,  0.33338437, -0.93937493, ...,  0.2       ,\n",
       "         0.        ,  0.2893617 ],\n",
       "       ...,\n",
       "       [-0.00903987,  0.36333891, -0.93069998, ...,  0.16149068,\n",
       "         0.        ,  0.14906832],\n",
       "       [ 0.03527517,  0.36700392, -0.92733556, ...,  0.22818792,\n",
       "         0.        ,  0.24161074],\n",
       "       [ 0.03449913,  0.27093415, -0.95425133, ...,  0.37299035,\n",
       "         0.        ,  0.22508039]])"
      ]
     },
     "execution_count": 9,
     "metadata": {},
     "output_type": "execute_result"
    }
   ],
   "source": [
    "# Convert your data frame's columns into arrays\n",
    "x = df_tmp.loc[:, df_tmp.columns.str.startswith(('AU', \"gaze\", \"pose\"))].to_numpy()\n",
    "x"
   ]
  },
  {
   "cell_type": "code",
   "execution_count": 10,
   "id": "05a35a16",
   "metadata": {},
   "outputs": [
    {
     "data": {
      "text/plain": [
       "352"
      ]
     },
     "execution_count": 10,
     "metadata": {},
     "output_type": "execute_result"
    }
   ],
   "source": [
    "len(x)"
   ]
  },
  {
   "cell_type": "code",
   "execution_count": 11,
   "id": "757c1902",
   "metadata": {},
   "outputs": [
    {
     "data": {
      "text/plain": [
       "array(['adm', 'adm', 'adm', 'adm', 'adm', 'adm', 'adm', 'adm', 'amu',\n",
       "       'amu', 'amu', 'amu', 'amu', 'amu', 'amu', 'amu', 'ang', 'ang',\n",
       "       'ang', 'ang', 'ang', 'ang', 'ang', 'ang', 'anx', 'anx', 'anx',\n",
       "       'anx', 'anx', 'anx', 'anx', 'anx', 'awe', 'awe', 'awe', 'awe',\n",
       "       'awe', 'awe', 'awe', 'awe', 'bor', 'bor', 'bor', 'bor', 'bor',\n",
       "       'bor', 'bor', 'bor', 'conc', 'conc', 'conc', 'conc', 'conc',\n",
       "       'conc', 'conc', 'conc', 'conf', 'conf', 'conf', 'conf', 'conf',\n",
       "       'conf', 'conf', 'conf', 'cont', 'cont', 'cont', 'cont', 'cont',\n",
       "       'cont', 'cont', 'cont', 'det', 'det', 'det', 'det', 'det', 'det',\n",
       "       'det', 'det', 'disa', 'disa', 'disa', 'disa', 'disa', 'disa',\n",
       "       'disa', 'disa', 'disg', 'disg', 'disg', 'disg', 'disg', 'disg',\n",
       "       'disg', 'disg', 'dist', 'dist', 'dist', 'dist', 'dist', 'dist',\n",
       "       'dist', 'dist', 'dou', 'dou', 'dou', 'dou', 'dou', 'dou', 'dou',\n",
       "       'dou', 'ele', 'ele', 'ele', 'ele', 'ele', 'ele', 'ele', 'ele',\n",
       "       'emb', 'emb', 'emb', 'emb', 'emb', 'emb', 'emb', 'emb', 'env',\n",
       "       'env', 'env', 'env', 'env', 'env', 'env', 'env', 'exc', 'exc',\n",
       "       'exc', 'exc', 'exc', 'exc', 'exc', 'exc', 'fea', 'fea', 'fea',\n",
       "       'fea', 'fea', 'fea', 'fea', 'fea', 'gra', 'gra', 'gra', 'gra',\n",
       "       'gra', 'gra', 'gra', 'gra', 'gui', 'gui', 'gui', 'gui', 'gui',\n",
       "       'gui', 'gui', 'gui', 'hap', 'hap', 'hap', 'hap', 'hap', 'hap',\n",
       "       'hap', 'hap', 'hop', 'hop', 'hop', 'hop', 'hop', 'hop', 'hop',\n",
       "       'hop', 'ins', 'ins', 'ins', 'ins', 'ins', 'ins', 'ins', 'ins',\n",
       "       'int', 'int', 'int', 'int', 'int', 'int', 'int', 'int', 'mov',\n",
       "       'mov', 'mov', 'mov', 'mov', 'mov', 'mov', 'mov', 'neg_sur',\n",
       "       'neg_sur', 'neg_sur', 'neg_sur', 'neg_sur', 'neg_sur', 'neg_sur',\n",
       "       'neg_sur', 'neu', 'neu', 'neu', 'neu', 'neu', 'neu', 'neu', 'neu',\n",
       "       'nos', 'nos', 'nos', 'nos', 'nos', 'nos', 'nos', 'nos', 'pea',\n",
       "       'pea', 'pea', 'pea', 'pea', 'pea', 'pea', 'pea', 'ple', 'ple',\n",
       "       'ple', 'ple', 'ple', 'ple', 'ple', 'ple', 'pos_sur', 'pos_sur',\n",
       "       'pos_sur', 'pos_sur', 'pos_sur', 'pos_sur', 'pos_sur', 'pos_sur',\n",
       "       'pri', 'pri', 'pri', 'pri', 'pri', 'pri', 'pri', 'pri', 'reg',\n",
       "       'reg', 'reg', 'reg', 'reg', 'reg', 'reg', 'reg', 'rej', 'rej',\n",
       "       'rej', 'rej', 'rej', 'rej', 'rej', 'rej', 'rel', 'rel', 'rel',\n",
       "       'rel', 'rel', 'rel', 'rel', 'rel', 'sad', 'sad', 'sad', 'sad',\n",
       "       'sad', 'sad', 'sad', 'sad', 'sar', 'sar', 'sar', 'sar', 'sar',\n",
       "       'sar', 'sar', 'sar', 'sat', 'sat', 'sat', 'sat', 'sat', 'sat',\n",
       "       'sat', 'sat', 'scha', 'scha', 'scha', 'scha', 'scha', 'scha',\n",
       "       'scha', 'scha', 'sex', 'sex', 'sex', 'sex', 'sex', 'sex', 'sex',\n",
       "       'sex', 'sha', 'sha', 'sha', 'sha', 'sha', 'sha', 'sha', 'sha',\n",
       "       'ten', 'ten', 'ten', 'ten', 'ten', 'ten', 'ten', 'ten', 'tri',\n",
       "       'tri', 'tri', 'tri', 'tri', 'tri', 'tri', 'tri'], dtype=object)"
      ]
     },
     "execution_count": 11,
     "metadata": {},
     "output_type": "execute_result"
    }
   ],
   "source": [
    "y = df_tmp['emotion_1'].to_numpy()\n",
    "y"
   ]
  },
  {
   "cell_type": "code",
   "execution_count": 12,
   "id": "8af0c010",
   "metadata": {},
   "outputs": [
    {
     "data": {
      "text/plain": [
       "352"
      ]
     },
     "execution_count": 12,
     "metadata": {},
     "output_type": "execute_result"
    }
   ],
   "source": [
    "len(y)"
   ]
  },
  {
   "cell_type": "markdown",
   "id": "b4cbfa49",
   "metadata": {},
   "source": [
    "Split into training and test sets"
   ]
  },
  {
   "cell_type": "code",
   "execution_count": 13,
   "id": "11cb9da0",
   "metadata": {},
   "outputs": [],
   "source": [
    "x_train,x_test,y_train,y_test=train_test_split(x,y,test_size=0.2)"
   ]
  },
  {
   "cell_type": "code",
   "execution_count": 14,
   "id": "fb36bb78",
   "metadata": {},
   "outputs": [
    {
     "data": {
      "text/plain": [
       "SVC()"
      ]
     },
     "execution_count": 14,
     "metadata": {},
     "output_type": "execute_result"
    }
   ],
   "source": [
    "# feed into your classifier \n",
    "clf = svm.SVC()\n",
    "clf.fit(x_train, y_train)"
   ]
  },
  {
   "cell_type": "markdown",
   "id": "b6f8f29b",
   "metadata": {},
   "source": [
    "Lets look at the predictions..."
   ]
  },
  {
   "cell_type": "code",
   "execution_count": 15,
   "id": "37339119",
   "metadata": {},
   "outputs": [
    {
     "data": {
      "text/plain": [
       "array(['dist', 'dist', 'dist', 'dist', 'dist', 'dist', 'env', 'dist',\n",
       "       'env', 'dist', 'dist', 'dist', 'env', 'dist', 'dist', 'dist',\n",
       "       'dist', 'dist', 'env', 'ins', 'dist', 'dist', 'dist', 'dist',\n",
       "       'dist', 'dist', 'dist', 'dist', 'dist', 'dist', 'ins', 'dist',\n",
       "       'dist', 'dist', 'dist', 'dist', 'dist', 'ten', 'dist', 'dist',\n",
       "       'env', 'ten', 'dist', 'dist', 'dist', 'dist', 'env', 'dist',\n",
       "       'dist', 'ten', 'scha', 'env', 'dist', 'dist', 'ten', 'dist',\n",
       "       'dist', 'dist', 'dist', 'dist', 'ten', 'dist', 'dist', 'dist',\n",
       "       'dist', 'dist', 'ten', 'dist', 'env', 'dist', 'dist'], dtype=object)"
      ]
     },
     "execution_count": 15,
     "metadata": {},
     "output_type": "execute_result"
    }
   ],
   "source": [
    "clf.predict(x_test)"
   ]
  },
  {
   "cell_type": "code",
   "execution_count": 16,
   "id": "02fb0253",
   "metadata": {
    "scrolled": true
   },
   "outputs": [
    {
     "data": {
      "text/plain": [
       "array(['emb', 'tri', 'neg_sur', 'neg_sur', 'ple', 'sha', 'neg_sur', 'exc',\n",
       "       'mov', 'fea', 'gra', 'adm', 'conf', 'anx', 'hop', 'gui', 'gui',\n",
       "       'rej', 'reg', 'conc', 'ele', 'bor', 'hap', 'tri', 'pri', 'gui',\n",
       "       'fea', 'awe', 'disa', 'conc', 'sex', 'rej', 'gra', 'emb', 'conc',\n",
       "       'ele', 'bor', 'sat', 'adm', 'amu', 'conc', 'cont', 'ang', 'dou',\n",
       "       'nos', 'sha', 'adm', 'neu', 'pos_sur', 'det', 'bor', 'disa', 'sad',\n",
       "       'sar', 'rel', 'adm', 'ele', 'ang', 'emb', 'sar', 'pea', 'awe',\n",
       "       'sad', 'disg', 'neu', 'fea', 'det', 'neg_sur', 'conf', 'disa',\n",
       "       'int'], dtype=object)"
      ]
     },
     "execution_count": 16,
     "metadata": {},
     "output_type": "execute_result"
    }
   ],
   "source": [
    "y_test"
   ]
  },
  {
   "cell_type": "markdown",
   "id": "012f7f6c",
   "metadata": {},
   "source": [
    "Look at the total score, not very good..."
   ]
  },
  {
   "cell_type": "code",
   "execution_count": 17,
   "id": "eea6cf08",
   "metadata": {},
   "outputs": [
    {
     "data": {
      "text/plain": [
       "0.0"
      ]
     },
     "execution_count": 17,
     "metadata": {},
     "output_type": "execute_result"
    }
   ],
   "source": [
    "clf.score(x_test, y_test)"
   ]
  },
  {
   "cell_type": "markdown",
   "id": "40066a14",
   "metadata": {},
   "source": [
    "Lets try with some other kernels..."
   ]
  },
  {
   "cell_type": "code",
   "execution_count": 18,
   "id": "fc3d3303",
   "metadata": {},
   "outputs": [
    {
     "data": {
      "text/plain": [
       "0.0"
      ]
     },
     "execution_count": 18,
     "metadata": {},
     "output_type": "execute_result"
    }
   ],
   "source": [
    "# polynomial kernel\n",
    "clf = svm.SVC(kernel = \"poly\")\n",
    "clf.fit(x_train, y_train)\n",
    "clf.score(x_test, y_test)"
   ]
  },
  {
   "cell_type": "code",
   "execution_count": 19,
   "id": "4b4d586a",
   "metadata": {},
   "outputs": [
    {
     "data": {
      "text/plain": [
       "0.0"
      ]
     },
     "execution_count": 19,
     "metadata": {},
     "output_type": "execute_result"
    }
   ],
   "source": [
    "# rbf\n",
    "clf = svm.SVC(kernel = \"rbf\")\n",
    "clf.fit(x_train, y_train)\n",
    "clf.score(x_test, y_test)"
   ]
  },
  {
   "cell_type": "code",
   "execution_count": 20,
   "id": "01536bdf",
   "metadata": {},
   "outputs": [
    {
     "data": {
      "text/plain": [
       "0.36619718309859156"
      ]
     },
     "execution_count": 20,
     "metadata": {},
     "output_type": "execute_result"
    }
   ],
   "source": [
    "# linear\n",
    "clf = svm.SVC(kernel = \"linear\")\n",
    "clf.fit(x_train, y_train)\n",
    "clf.score(x_test, y_test)"
   ]
  },
  {
   "cell_type": "code",
   "execution_count": 21,
   "id": "8c71e7c9",
   "metadata": {},
   "outputs": [
    {
     "data": {
      "text/plain": [
       "array(['scha', 'tri', 'ang', 'neg_sur', 'ele', 'gui', 'disa', 'sar',\n",
       "       'nos', 'sad', 'tri', 'nos', 'conf', 'anx', 'hop', 'disa', 'disa',\n",
       "       'reg', 'reg', 'conf', 'mov', 'rel', 'hap', 'adm', 'pri', 'gui',\n",
       "       'anx', 'awe', 'rej', 'conc', 'sex', 'disa', 'hop', 'hop', 'cont',\n",
       "       'ins', 'det', 'ple', 'adm', 'amu', 'conf', 'cont', 'ang', 'nos',\n",
       "       'hop', 'fea', 'nos', 'rel', 'exc', 'det', 'ins', 'disa', 'anx',\n",
       "       'sar', 'bor', 'nos', 'ele', 'disg', 'bor', 'sat', 'bor', 'amu',\n",
       "       'sad', 'sad', 'dou', 'fea', 'det', 'neg_sur', 'sad', 'disa', 'int'],\n",
       "      dtype=object)"
      ]
     },
     "execution_count": 21,
     "metadata": {},
     "output_type": "execute_result"
    }
   ],
   "source": [
    "clf.predict(x_test)"
   ]
  },
  {
   "cell_type": "code",
   "execution_count": 22,
   "id": "58240050",
   "metadata": {},
   "outputs": [
    {
     "data": {
      "text/plain": [
       "array(['emb', 'tri', 'neg_sur', 'neg_sur', 'ple', 'sha', 'neg_sur', 'exc',\n",
       "       'mov', 'fea', 'gra', 'adm', 'conf', 'anx', 'hop', 'gui', 'gui',\n",
       "       'rej', 'reg', 'conc', 'ele', 'bor', 'hap', 'tri', 'pri', 'gui',\n",
       "       'fea', 'awe', 'disa', 'conc', 'sex', 'rej', 'gra', 'emb', 'conc',\n",
       "       'ele', 'bor', 'sat', 'adm', 'amu', 'conc', 'cont', 'ang', 'dou',\n",
       "       'nos', 'sha', 'adm', 'neu', 'pos_sur', 'det', 'bor', 'disa', 'sad',\n",
       "       'sar', 'rel', 'adm', 'ele', 'ang', 'emb', 'sar', 'pea', 'awe',\n",
       "       'sad', 'disg', 'neu', 'fea', 'det', 'neg_sur', 'conf', 'disa',\n",
       "       'int'], dtype=object)"
      ]
     },
     "execution_count": 22,
     "metadata": {},
     "output_type": "execute_result"
    }
   ],
   "source": [
    "y_test"
   ]
  },
  {
   "cell_type": "code",
   "execution_count": 23,
   "id": "7dacedad",
   "metadata": {},
   "outputs": [
    {
     "data": {
      "text/plain": [
       "0.0"
      ]
     },
     "execution_count": 23,
     "metadata": {},
     "output_type": "execute_result"
    }
   ],
   "source": [
    "# sigmoid\n",
    "clf = svm.SVC(kernel = \"sigmoid\")\n",
    "clf.fit(x_train, y_train)\n",
    "clf.score(x_test, y_test)"
   ]
  }
 ],
 "metadata": {
  "kernelspec": {
   "display_name": "Python 3 (ipykernel)",
   "language": "python",
   "name": "python3"
  },
  "language_info": {
   "codemirror_mode": {
    "name": "ipython",
    "version": 3
   },
   "file_extension": ".py",
   "mimetype": "text/x-python",
   "name": "python",
   "nbconvert_exporter": "python",
   "pygments_lexer": "ipython3",
   "version": "3.10.4"
  }
 },
 "nbformat": 4,
 "nbformat_minor": 5
}
